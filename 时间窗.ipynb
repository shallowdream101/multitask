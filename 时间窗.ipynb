{
 "cells": [
  {
   "cell_type": "code",
   "execution_count": 193,
   "metadata": {},
   "outputs": [],
   "source": [
    "import numpy as np\n",
    "import sklearn\n",
    "from sklearn.metrics import mean_absolute_error\n",
    "import pandas as pd\n",
    "from scipy.linalg import solve_triangular\n",
    "def multitask(x1,y1,x2,y2,lambda1,lambda2,lambda3,times=100):  ##x1,x2样本量必须相同\n",
    "    (n,p1)=x1.shape\n",
    "    (n,p2)=x2.shape\n",
    "    beta1=np.zeros(p1+1)\n",
    "    beta2=np.zeros(p2+1)\n",
    "    cont = np.ones(n)\n",
    "    x1=np.insert(x1, 0, values=cont, axis=1)\n",
    "    x2=np.insert(x2, 0, values=cont, axis=1)\n",
    "    x1x1=np.dot(x1.T,x1)\n",
    "    x1y1=np.dot(x1.T,y1)\n",
    "    x1x2=np.dot(x1.T,x2)\n",
    "    x2x2=np.dot(x2.T,x2)\n",
    "    x2y2=np.dot(x2.T,y2)\n",
    "    def beta1hat(beta2):\n",
    "        M1=(1+lambda1)*x1x1+lambda2*np.identity(p1+1)\n",
    "        #M1=(x1x1+lambda2*np.identity(p1+1))/(1+lambda2)+lambda1*x1x1\n",
    "        L1=np.linalg.cholesky(M1)\n",
    "        b_1 = solve_triangular(L1, x1y1+np.dot(lambda1*x1x2,beta2).reshape((-1,1)), lower=True)\n",
    "        #print(x1y1.shape)\n",
    "        #print((np.dot(lambda1*x1x2,beta2)).shape)\n",
    "        beta1 = solve_triangular(L1.T, b_1, lower=False)\n",
    "        return beta1\n",
    "    def beta2hat(beta1):\n",
    "        M2=(1+lambda1)*x2x2+lambda3*np.identity(p2+1)\n",
    "        #M2=(x2x2+lambda3*np.identity(p2+1))/(1+lambda3)+lambda1*x2x2\n",
    "        L2=np.linalg.cholesky(M2)\n",
    "        b_2 = solve_triangular(L2, x2y2+np.dot(lambda1*x1x2.T,beta1).reshape((-1,1)), lower=True)\n",
    "        beta2 = solve_triangular(L2.T, b_2, lower=False)\n",
    "        return beta2\n",
    "    i=0\n",
    "    while True:\n",
    "        i+=1\n",
    "        b2=beta2\n",
    "        b1=beta1\n",
    "        beta1=beta1hat(beta2)\n",
    "        beta2=beta2hat(beta1)\n",
    "        if (np.mean((beta1-b1)**2)+np.mean((beta2-b2)**2))<0.001:\n",
    "           # print(i)\n",
    "            return {\"beta1\":beta1,\"beta2\":beta2}\n",
    "        if i>=times:\n",
    "          #  print(i)\n",
    "            return {\"beta1\":beta1,\"beta2\":beta2}\n",
    "\n",
    "        \n",
    "        "
   ]
  },
  {
   "cell_type": "code",
   "execution_count": 194,
   "metadata": {},
   "outputs": [],
   "source": [
    "import numpy as np\n",
    "import pandas as pd\n",
    "import scipy.signal"
   ]
  },
  {
   "cell_type": "code",
   "execution_count": 195,
   "metadata": {},
   "outputs": [],
   "source": [
    "re_col='cool_ext_week'\n",
    "xiezhu='cool_in_week'\n",
    "start='2018-3-26'       ##时间\n",
    "end='2018-4-22'\n",
    "length=int((pd.DatetimeIndex([end])-pd.DatetimeIndex([start])).values//86400000000000)+1   \n",
    "data1=pd.read_csv(\"/home/ruanlx/多任务学习/竞赛阶段2数据处理/\"+re_col+\".csv\")\n",
    "data2=pd.read_csv(\"/home/ruanlx/多任务学习/竞赛阶段2数据处理/\"+xiezhu+\".csv\")"
   ]
  },
  {
   "cell_type": "code",
   "execution_count": null,
   "metadata": {},
   "outputs": [],
   "source": []
  },
  {
   "cell_type": "code",
   "execution_count": 196,
   "metadata": {},
   "outputs": [],
   "source": [
    "data1.index=pd.DatetimeIndex(data1['单据创建时间'])\n",
    "data1.drop('单据创建时间',axis=1,inplace=True)\n",
    "data2.index=pd.DatetimeIndex(data2['单据创建时间'])\n",
    "data2.drop('单据创建时间',axis=1,inplace=True)\n",
    "data1=data1[list(data1.columns[:63])+list(data1.columns[-6:])]\n",
    "data2=data2[list(data2.columns[:63])+list(data2.columns[-6:])]\n",
    "extra_weather=pd.read_csv(\"/home/ruanlx/天气爬虫/extra_wether.csv\")\n",
    "#extra_weather=extra_weather.iloc[:,1:]\n",
    "extra_weather.index=pd.DatetimeIndex(extra_weather['单据创建时间'])\n",
    "extra_weather.drop('单据创建时间',axis=1,inplace=True)\n",
    "extra_weather=extra_weather[extra_weather.index>'2016-1-1']\n",
    "extra_weather=extra_weather[extra_weather.index<start]\n",
    "isholiday=pd.read_csv('/home/ruanlx/多任务学习/竞赛阶段2数据处理/holiday.csv')\n",
    "isholiday.index=pd.DatetimeIndex(isholiday['date'])\n",
    "isholiday.drop('date',axis=1,inplace=True)\n",
    "isholiday=isholiday[isholiday.index>'2016-1-1']\n",
    "isholiday=isholiday[isholiday.index<start]\n",
    "fangjiaxiaoying=pd.read_csv('/home/ruanlx/多任务学习/竞赛阶段2数据处理/fangjiaxiaoying.csv',header=None)\n",
    "fangjiaxiaoying.columns=['date','fangjiaxiaoying']\n",
    "fangjiaxiaoying.index=pd.DatetimeIndex(fangjiaxiaoying['date'])\n",
    "fangjiaxiaoying.drop('date',axis=1,inplace=True)\n",
    "fangjiaxiaoying=fangjiaxiaoying[fangjiaxiaoying.index>'2016-1-1']\n",
    "fangjiaxiaoying=fangjiaxiaoying[fangjiaxiaoying.index<start]"
   ]
  },
  {
   "cell_type": "code",
   "execution_count": 197,
   "metadata": {},
   "outputs": [],
   "source": [
    "data1=pd.merge(data1,fangjiaxiaoying,left_index=True,right_index=True)\n",
    "data2=pd.merge(data2,fangjiaxiaoying,left_index=True,right_index=True)\n",
    "\n",
    "data1=pd.merge(data1,isholiday,left_index=True,right_index=True)\n",
    "data2=pd.merge(data2,isholiday,left_index=True,right_index=True)\n",
    "\n",
    "data1=pd.merge(data1,extra_weather,left_index=True,right_index=True)\n",
    "data2=pd.merge(data2,extra_weather,left_index=True,right_index=True)"
   ]
  },
  {
   "cell_type": "code",
   "execution_count": 198,
   "metadata": {},
   "outputs": [
    {
     "data": {
      "text/html": [
       "<div>\n",
       "<style scoped>\n",
       "    .dataframe tbody tr th:only-of-type {\n",
       "        vertical-align: middle;\n",
       "    }\n",
       "\n",
       "    .dataframe tbody tr th {\n",
       "        vertical-align: top;\n",
       "    }\n",
       "\n",
       "    .dataframe thead th {\n",
       "        text-align: right;\n",
       "    }\n",
       "</style>\n",
       "<table border=\"1\" class=\"dataframe\">\n",
       "  <thead>\n",
       "    <tr style=\"text-align: right;\">\n",
       "      <th></th>\n",
       "      <th>重量</th>\n",
       "      <th>重量_1</th>\n",
       "      <th>重量_2</th>\n",
       "      <th>重量_3</th>\n",
       "      <th>重量_4</th>\n",
       "      <th>重量_5</th>\n",
       "      <th>重量_6</th>\n",
       "      <th>重量_7</th>\n",
       "      <th>重量_8</th>\n",
       "      <th>重量_9</th>\n",
       "      <th>...</th>\n",
       "      <th>userfeature_10</th>\n",
       "      <th>itemfeature_0</th>\n",
       "      <th>itemfeature_1</th>\n",
       "      <th>year</th>\n",
       "      <th>mon</th>\n",
       "      <th>mday</th>\n",
       "      <th>wday</th>\n",
       "      <th>fangjiaxiaoying</th>\n",
       "      <th>isholiday</th>\n",
       "      <th>极端天气</th>\n",
       "    </tr>\n",
       "  </thead>\n",
       "  <tbody>\n",
       "    <tr>\n",
       "      <th>2016-01-02</th>\n",
       "      <td>7.070438</td>\n",
       "      <td>4.116748</td>\n",
       "      <td>8.059041</td>\n",
       "      <td>7.926652</td>\n",
       "      <td>8.376044</td>\n",
       "      <td>8.009546</td>\n",
       "      <td>6.719328</td>\n",
       "      <td>6.734605</td>\n",
       "      <td>7.983683</td>\n",
       "      <td>7.858563</td>\n",
       "      <td>...</td>\n",
       "      <td>-0.008497</td>\n",
       "      <td>-25.258600</td>\n",
       "      <td>6.164669</td>\n",
       "      <td>2016.0</td>\n",
       "      <td>1.0</td>\n",
       "      <td>2.0</td>\n",
       "      <td>5.0</td>\n",
       "      <td>2.051942</td>\n",
       "      <td>1</td>\n",
       "      <td>0</td>\n",
       "    </tr>\n",
       "    <tr>\n",
       "      <th>2016-01-03</th>\n",
       "      <td>7.264008</td>\n",
       "      <td>7.070438</td>\n",
       "      <td>4.116748</td>\n",
       "      <td>8.059041</td>\n",
       "      <td>7.926652</td>\n",
       "      <td>8.376044</td>\n",
       "      <td>8.009546</td>\n",
       "      <td>6.719328</td>\n",
       "      <td>6.734605</td>\n",
       "      <td>7.983683</td>\n",
       "      <td>...</td>\n",
       "      <td>-0.025230</td>\n",
       "      <td>-67.032438</td>\n",
       "      <td>16.360083</td>\n",
       "      <td>2016.0</td>\n",
       "      <td>1.0</td>\n",
       "      <td>3.0</td>\n",
       "      <td>6.0</td>\n",
       "      <td>2.562557</td>\n",
       "      <td>1</td>\n",
       "      <td>0</td>\n",
       "    </tr>\n",
       "    <tr>\n",
       "      <th>2016-01-04</th>\n",
       "      <td>8.734657</td>\n",
       "      <td>7.264008</td>\n",
       "      <td>7.070438</td>\n",
       "      <td>4.116748</td>\n",
       "      <td>8.059041</td>\n",
       "      <td>7.926652</td>\n",
       "      <td>8.376044</td>\n",
       "      <td>8.009546</td>\n",
       "      <td>6.719328</td>\n",
       "      <td>6.734605</td>\n",
       "      <td>...</td>\n",
       "      <td>0.955814</td>\n",
       "      <td>-223.441458</td>\n",
       "      <td>54.533610</td>\n",
       "      <td>2016.0</td>\n",
       "      <td>1.0</td>\n",
       "      <td>4.0</td>\n",
       "      <td>0.0</td>\n",
       "      <td>1.903677</td>\n",
       "      <td>0</td>\n",
       "      <td>0</td>\n",
       "    </tr>\n",
       "    <tr>\n",
       "      <th>2016-01-05</th>\n",
       "      <td>8.746825</td>\n",
       "      <td>8.734657</td>\n",
       "      <td>7.264008</td>\n",
       "      <td>7.070438</td>\n",
       "      <td>4.116748</td>\n",
       "      <td>8.059041</td>\n",
       "      <td>7.926652</td>\n",
       "      <td>8.376044</td>\n",
       "      <td>8.009546</td>\n",
       "      <td>6.719328</td>\n",
       "      <td>...</td>\n",
       "      <td>0.916629</td>\n",
       "      <td>-255.500450</td>\n",
       "      <td>62.357998</td>\n",
       "      <td>2016.0</td>\n",
       "      <td>1.0</td>\n",
       "      <td>5.0</td>\n",
       "      <td>1.0</td>\n",
       "      <td>1.150945</td>\n",
       "      <td>0</td>\n",
       "      <td>0</td>\n",
       "    </tr>\n",
       "    <tr>\n",
       "      <th>2016-01-06</th>\n",
       "      <td>8.123650</td>\n",
       "      <td>8.746825</td>\n",
       "      <td>8.734657</td>\n",
       "      <td>7.264008</td>\n",
       "      <td>7.070438</td>\n",
       "      <td>4.116748</td>\n",
       "      <td>8.059041</td>\n",
       "      <td>7.926652</td>\n",
       "      <td>8.376044</td>\n",
       "      <td>8.009546</td>\n",
       "      <td>...</td>\n",
       "      <td>-0.055911</td>\n",
       "      <td>-201.097313</td>\n",
       "      <td>49.080249</td>\n",
       "      <td>2016.0</td>\n",
       "      <td>1.0</td>\n",
       "      <td>6.0</td>\n",
       "      <td>2.0</td>\n",
       "      <td>0.837109</td>\n",
       "      <td>0</td>\n",
       "      <td>0</td>\n",
       "    </tr>\n",
       "  </tbody>\n",
       "</table>\n",
       "<p>5 rows × 72 columns</p>\n",
       "</div>"
      ],
      "text/plain": [
       "                  重量      重量_1      重量_2      重量_3      重量_4      重量_5  \\\n",
       "2016-01-02  7.070438  4.116748  8.059041  7.926652  8.376044  8.009546   \n",
       "2016-01-03  7.264008  7.070438  4.116748  8.059041  7.926652  8.376044   \n",
       "2016-01-04  8.734657  7.264008  7.070438  4.116748  8.059041  7.926652   \n",
       "2016-01-05  8.746825  8.734657  7.264008  7.070438  4.116748  8.059041   \n",
       "2016-01-06  8.123650  8.746825  8.734657  7.264008  7.070438  4.116748   \n",
       "\n",
       "                重量_6      重量_7      重量_8      重量_9  ...   userfeature_10  \\\n",
       "2016-01-02  6.719328  6.734605  7.983683  7.858563  ...        -0.008497   \n",
       "2016-01-03  8.009546  6.719328  6.734605  7.983683  ...        -0.025230   \n",
       "2016-01-04  8.376044  8.009546  6.719328  6.734605  ...         0.955814   \n",
       "2016-01-05  7.926652  8.376044  8.009546  6.719328  ...         0.916629   \n",
       "2016-01-06  8.059041  7.926652  8.376044  8.009546  ...        -0.055911   \n",
       "\n",
       "            itemfeature_0  itemfeature_1    year  mon  mday  wday  \\\n",
       "2016-01-02     -25.258600       6.164669  2016.0  1.0   2.0   5.0   \n",
       "2016-01-03     -67.032438      16.360083  2016.0  1.0   3.0   6.0   \n",
       "2016-01-04    -223.441458      54.533610  2016.0  1.0   4.0   0.0   \n",
       "2016-01-05    -255.500450      62.357998  2016.0  1.0   5.0   1.0   \n",
       "2016-01-06    -201.097313      49.080249  2016.0  1.0   6.0   2.0   \n",
       "\n",
       "            fangjiaxiaoying  isholiday  极端天气  \n",
       "2016-01-02         2.051942          1     0  \n",
       "2016-01-03         2.562557          1     0  \n",
       "2016-01-04         1.903677          0     0  \n",
       "2016-01-05         1.150945          0     0  \n",
       "2016-01-06         0.837109          0     0  \n",
       "\n",
       "[5 rows x 72 columns]"
      ]
     },
     "execution_count": 198,
     "metadata": {},
     "output_type": "execute_result"
    }
   ],
   "source": [
    "data1.iloc[:,:48]=np.log(data1.iloc[:,:48]+0.5)\n",
    "data2.iloc[:,:48]=np.log(data2.iloc[:,:48]+0.5)\n",
    "data1.head()"
   ]
  },
  {
   "cell_type": "code",
   "execution_count": 199,
   "metadata": {},
   "outputs": [],
   "source": [
    "lag_sum=7\n",
    "#data1=data1[list(data1.columns[:55])+list(data1.columns[-7:])]\n",
    "#data1.index=pd.DatetimeIndex(data1['单据创建时间'])\n",
    "#data1.drop('单据创建时间',axis=1,inplace=True)\n",
    "ts1=data1['重量'].copy()\n",
    "h = np.ones((lag_sum,))\n",
    "list_col_not_transfer=['year',\t'mon',\t'mday',\t'wday']\n",
    "for i in data1.columns:\n",
    "    if i not in list_col_not_transfer:\n",
    "        ts_sum_7=scipy.signal.convolve(data1[i], h,'valid')\n",
    "        ts_sum_7=pd.Series(ts_sum_7)\n",
    "        ts_sum_7.index=ts1.index[lag_sum-1:]\n",
    "        #print(ts_sum_7)\n",
    "        data1[i]=ts_sum_7"
   ]
  },
  {
   "cell_type": "code",
   "execution_count": 200,
   "metadata": {},
   "outputs": [],
   "source": [
    "#data2=data2[list(data2.columns[:55])+list(data2.columns[-7:])]\n",
    "#data2.index=pd.DatetimeIndex(data2['单据创建时间'])\n",
    "#data2.drop('单据创建时间',axis=1,inplace=True)\n",
    "ts2=data2['重量'].copy()\n",
    "h = np.ones((lag_sum,))\n",
    "for i in data2.columns:\n",
    "    if i not in list_col_not_transfer:\n",
    "        ts_sum_7=scipy.signal.convolve(data2[i], h,'valid')\n",
    "        ts_sum_7=pd.Series(ts_sum_7)\n",
    "        ts_sum_7.index=ts2.index[lag_sum-1:]\n",
    "        data2[i]=ts_sum_7"
   ]
  },
  {
   "cell_type": "code",
   "execution_count": 201,
   "metadata": {},
   "outputs": [],
   "source": [
    "data1=data1[data1.index>'2016-1-8']\n",
    "data2=data2[data2.index>'2016-1-8']"
   ]
  },
  {
   "cell_type": "code",
   "execution_count": 202,
   "metadata": {},
   "outputs": [],
   "source": [
    "#plt.plot(np.array(np.log(data1['重量'])[1:])-np.array(np.log(data1['重量'])[:-1]))"
   ]
  },
  {
   "cell_type": "code",
   "execution_count": 203,
   "metadata": {},
   "outputs": [
    {
     "data": {
      "text/html": [
       "<div>\n",
       "<style scoped>\n",
       "    .dataframe tbody tr th:only-of-type {\n",
       "        vertical-align: middle;\n",
       "    }\n",
       "\n",
       "    .dataframe tbody tr th {\n",
       "        vertical-align: top;\n",
       "    }\n",
       "\n",
       "    .dataframe thead th {\n",
       "        text-align: right;\n",
       "    }\n",
       "</style>\n",
       "<table border=\"1\" class=\"dataframe\">\n",
       "  <thead>\n",
       "    <tr style=\"text-align: right;\">\n",
       "      <th></th>\n",
       "      <th>重量</th>\n",
       "      <th>重量_1</th>\n",
       "      <th>重量_2</th>\n",
       "      <th>重量_3</th>\n",
       "      <th>重量_4</th>\n",
       "      <th>重量_5</th>\n",
       "      <th>重量_6</th>\n",
       "      <th>重量_7</th>\n",
       "      <th>重量_8</th>\n",
       "      <th>重量_9</th>\n",
       "      <th>...</th>\n",
       "      <th>userfeature_10</th>\n",
       "      <th>itemfeature_0</th>\n",
       "      <th>itemfeature_1</th>\n",
       "      <th>year</th>\n",
       "      <th>mon</th>\n",
       "      <th>mday</th>\n",
       "      <th>wday</th>\n",
       "      <th>fangjiaxiaoying</th>\n",
       "      <th>isholiday</th>\n",
       "      <th>极端天气</th>\n",
       "    </tr>\n",
       "  </thead>\n",
       "  <tbody>\n",
       "    <tr>\n",
       "      <th>2016-01-09</th>\n",
       "      <td>55.803397</td>\n",
       "      <td>55.781338</td>\n",
       "      <td>52.027206</td>\n",
       "      <td>52.115367</td>\n",
       "      <td>51.918369</td>\n",
       "      <td>51.547587</td>\n",
       "      <td>50.822477</td>\n",
       "      <td>50.277797</td>\n",
       "      <td>49.941963</td>\n",
       "      <td>53.808898</td>\n",
       "      <td>...</td>\n",
       "      <td>2.686784</td>\n",
       "      <td>-1178.410822</td>\n",
       "      <td>287.605517</td>\n",
       "      <td>2016.0</td>\n",
       "      <td>1.0</td>\n",
       "      <td>9.0</td>\n",
       "      <td>5.0</td>\n",
       "      <td>8.110872</td>\n",
       "      <td>1.0</td>\n",
       "      <td>0.0</td>\n",
       "    </tr>\n",
       "    <tr>\n",
       "      <th>2016-01-10</th>\n",
       "      <td>55.506742</td>\n",
       "      <td>55.803397</td>\n",
       "      <td>55.781338</td>\n",
       "      <td>52.027206</td>\n",
       "      <td>52.115367</td>\n",
       "      <td>51.918369</td>\n",
       "      <td>51.547587</td>\n",
       "      <td>50.822477</td>\n",
       "      <td>50.277797</td>\n",
       "      <td>49.941963</td>\n",
       "      <td>...</td>\n",
       "      <td>2.700472</td>\n",
       "      <td>-1165.781523</td>\n",
       "      <td>284.523183</td>\n",
       "      <td>2016.0</td>\n",
       "      <td>1.0</td>\n",
       "      <td>10.0</td>\n",
       "      <td>6.0</td>\n",
       "      <td>5.937809</td>\n",
       "      <td>0.0</td>\n",
       "      <td>0.0</td>\n",
       "    </tr>\n",
       "    <tr>\n",
       "      <th>2016-01-11</th>\n",
       "      <td>54.938873</td>\n",
       "      <td>55.506742</td>\n",
       "      <td>55.803397</td>\n",
       "      <td>55.781338</td>\n",
       "      <td>52.027206</td>\n",
       "      <td>52.115367</td>\n",
       "      <td>51.918369</td>\n",
       "      <td>51.547587</td>\n",
       "      <td>50.822477</td>\n",
       "      <td>50.277797</td>\n",
       "      <td>...</td>\n",
       "      <td>2.711329</td>\n",
       "      <td>-1143.437377</td>\n",
       "      <td>279.069822</td>\n",
       "      <td>2016.0</td>\n",
       "      <td>1.0</td>\n",
       "      <td>11.0</td>\n",
       "      <td>0.0</td>\n",
       "      <td>4.370243</td>\n",
       "      <td>0.0</td>\n",
       "      <td>0.0</td>\n",
       "    </tr>\n",
       "    <tr>\n",
       "      <th>2016-01-12</th>\n",
       "      <td>54.439289</td>\n",
       "      <td>54.938873</td>\n",
       "      <td>55.506742</td>\n",
       "      <td>55.803397</td>\n",
       "      <td>55.781338</td>\n",
       "      <td>52.027206</td>\n",
       "      <td>52.115367</td>\n",
       "      <td>51.918369</td>\n",
       "      <td>51.547587</td>\n",
       "      <td>50.822477</td>\n",
       "      <td>...</td>\n",
       "      <td>1.761089</td>\n",
       "      <td>-1066.690093</td>\n",
       "      <td>260.338712</td>\n",
       "      <td>2016.0</td>\n",
       "      <td>1.0</td>\n",
       "      <td>12.0</td>\n",
       "      <td>1.0</td>\n",
       "      <td>3.521318</td>\n",
       "      <td>0.0</td>\n",
       "      <td>0.0</td>\n",
       "    </tr>\n",
       "    <tr>\n",
       "      <th>2016-01-13</th>\n",
       "      <td>54.937379</td>\n",
       "      <td>54.439289</td>\n",
       "      <td>54.938873</td>\n",
       "      <td>55.506742</td>\n",
       "      <td>55.803397</td>\n",
       "      <td>55.781338</td>\n",
       "      <td>52.027206</td>\n",
       "      <td>52.115367</td>\n",
       "      <td>51.918369</td>\n",
       "      <td>51.547587</td>\n",
       "      <td>...</td>\n",
       "      <td>3.743428</td>\n",
       "      <td>-1037.545555</td>\n",
       "      <td>253.225633</td>\n",
       "      <td>2016.0</td>\n",
       "      <td>1.0</td>\n",
       "      <td>13.0</td>\n",
       "      <td>2.0</td>\n",
       "      <td>2.958451</td>\n",
       "      <td>0.0</td>\n",
       "      <td>0.0</td>\n",
       "    </tr>\n",
       "  </tbody>\n",
       "</table>\n",
       "<p>5 rows × 72 columns</p>\n",
       "</div>"
      ],
      "text/plain": [
       "                   重量       重量_1       重量_2       重量_3       重量_4       重量_5  \\\n",
       "2016-01-09  55.803397  55.781338  52.027206  52.115367  51.918369  51.547587   \n",
       "2016-01-10  55.506742  55.803397  55.781338  52.027206  52.115367  51.918369   \n",
       "2016-01-11  54.938873  55.506742  55.803397  55.781338  52.027206  52.115367   \n",
       "2016-01-12  54.439289  54.938873  55.506742  55.803397  55.781338  52.027206   \n",
       "2016-01-13  54.937379  54.439289  54.938873  55.506742  55.803397  55.781338   \n",
       "\n",
       "                 重量_6       重量_7       重量_8       重量_9  ...   userfeature_10  \\\n",
       "2016-01-09  50.822477  50.277797  49.941963  53.808898  ...         2.686784   \n",
       "2016-01-10  51.547587  50.822477  50.277797  49.941963  ...         2.700472   \n",
       "2016-01-11  51.918369  51.547587  50.822477  50.277797  ...         2.711329   \n",
       "2016-01-12  52.115367  51.918369  51.547587  50.822477  ...         1.761089   \n",
       "2016-01-13  52.027206  52.115367  51.918369  51.547587  ...         3.743428   \n",
       "\n",
       "            itemfeature_0  itemfeature_1    year  mon  mday  wday  \\\n",
       "2016-01-09   -1178.410822     287.605517  2016.0  1.0   9.0   5.0   \n",
       "2016-01-10   -1165.781523     284.523183  2016.0  1.0  10.0   6.0   \n",
       "2016-01-11   -1143.437377     279.069822  2016.0  1.0  11.0   0.0   \n",
       "2016-01-12   -1066.690093     260.338712  2016.0  1.0  12.0   1.0   \n",
       "2016-01-13   -1037.545555     253.225633  2016.0  1.0  13.0   2.0   \n",
       "\n",
       "            fangjiaxiaoying  isholiday  极端天气  \n",
       "2016-01-09         8.110872        1.0   0.0  \n",
       "2016-01-10         5.937809        0.0   0.0  \n",
       "2016-01-11         4.370243        0.0   0.0  \n",
       "2016-01-12         3.521318        0.0   0.0  \n",
       "2016-01-13         2.958451        0.0   0.0  \n",
       "\n",
       "[5 rows x 72 columns]"
      ]
     },
     "execution_count": 203,
     "metadata": {},
     "output_type": "execute_result"
    }
   ],
   "source": [
    "data1.head()"
   ]
  },
  {
   "cell_type": "code",
   "execution_count": 204,
   "metadata": {},
   "outputs": [],
   "source": [
    "y1=data1['重量']\n",
    "x1=data1.drop('重量',axis=1)\n",
    "train_x1=np.array(x1.iloc[:-7,:])\n",
    "train_y1=np.array(y1[:-7])\n",
    "test_x1=np.array(x1.iloc[-7:,:])\n",
    "test_y1=np.array(y1[-7:])"
   ]
  },
  {
   "cell_type": "code",
   "execution_count": 205,
   "metadata": {},
   "outputs": [],
   "source": [
    "y2=data2['重量']\n",
    "x2=data2.drop('重量',axis=1)\n",
    "train_x2=np.array(x2.iloc[:-7,:])\n",
    "train_y2=np.array(y2[:-7])\n",
    "test_x2=np.array(x2.iloc[-7:,:])\n",
    "test_y2=np.array(y2[-7:])"
   ]
  },
  {
   "cell_type": "code",
   "execution_count": 206,
   "metadata": {},
   "outputs": [],
   "source": [
    "from sklearn import preprocessing\n",
    "scaler_x1 = preprocessing.StandardScaler().fit(train_x1)\n",
    "train_x1=scaler_x1.transform(train_x1)       \n",
    "scaler_x2 = preprocessing.StandardScaler().fit(train_x2)\n",
    "train_x2=scaler_x2.transform(train_x2)  \n",
    "\n",
    "scaler_y1 = preprocessing.StandardScaler().fit(train_y1.reshape((-1,1)))\n",
    "train_y1=scaler_y1.transform(train_y1.reshape((-1,1)))       \n",
    "scaler_y2 = preprocessing.StandardScaler().fit(train_y2.reshape((-1,1)))\n",
    "train_y2=scaler_y2.transform(train_y2.reshape((-1,1)))  \n"
   ]
  },
  {
   "cell_type": "code",
   "execution_count": 207,
   "metadata": {},
   "outputs": [],
   "source": [
    "test_x1=scaler_x1.transform(test_x1)   \n",
    "test_x2=scaler_x2.transform(test_x2)\n",
    "test_y1=scaler_y1.transform(test_y1.reshape((-1,1)))   \n",
    "test_y2=scaler_y2.transform(test_y2.reshape((-1,1)))"
   ]
  },
  {
   "cell_type": "code",
   "execution_count": 208,
   "metadata": {},
   "outputs": [],
   "source": [
    "def predict(test_x1,beta1,test_y1=[np.nan]):\n",
    "    y_pred=np.dot(np.insert(test_x1, 0, values=1, axis=1),beta1)\n",
    "    if sum(np.isnan(test_y1)):\n",
    "        return {'yhat':y_pred}\n",
    "    else:\n",
    "        return {\"yhat\":y_pred,\"mae\":sklearn.metrics.mean_absolute_error(test_y1,y_pred)}"
   ]
  },
  {
   "cell_type": "code",
   "execution_count": null,
   "metadata": {},
   "outputs": [],
   "source": []
  },
  {
   "cell_type": "code",
   "execution_count": 209,
   "metadata": {},
   "outputs": [
    {
     "data": {
      "text/plain": [
       "0.12259296382593933"
      ]
     },
     "execution_count": 209,
     "metadata": {},
     "output_type": "execute_result"
    }
   ],
   "source": [
    "b=multitask(train_x1,train_y1,train_x2,train_y2,lambda1=0,lambda2=85.44,lambda3=0.1,times=1000)\n",
    "#np.exp(scaler_y1.inverse_transform(predict(test_x1,b['beta1'],test_y1)['yhat']))-0.5\n",
    "predict(test_x1,b['beta1'],test_y1)['mae']"
   ]
  },
  {
   "cell_type": "code",
   "execution_count": 210,
   "metadata": {},
   "outputs": [
    {
     "data": {
      "text/plain": [
       "\"\\nimport itertools\\nlambda1=np.linspace(0,1,num=10)\\n#lambda2=np.hstack((np.linspace(80,200,num=7),np.linspace(0.1,1,num=10)))\\n#lambda3=np.hstack((np.linspace(80,200,num=7),np.linspace(0.1,1,num=10)))\\nlambda2=np.linspace(0.01,500,num=10)\\nlambda3=np.linspace(1,700,num=10)\\n\\nmae=[]\\nfor i in itertools.product(lambda1,lambda2,lambda3):\\n    b=multitask(train_x1,train_y1,train_x2,train_y2,lambda1=i[0],lambda2=i[1],lambda3=i[2],times=1000)\\n    #print([i[0],i[1],i[2],predict(test_x1,test_y1,b['beta1'])['mae']])\\n    mae.append([i[0],i[1],i[2],predict(test_x1,b['beta1'],test_y1)['mae']])\\n\\nmae=pd.DataFrame(mae)\\nmae.columns=['lambda1','lambda2','lambda3','mae']\\n\\n\\n\\nlambda_=mae[mae['mae']==np.min(mae['mae'])].iloc[0,:]\\nprint(lambda_)\\nb=multitask(train_x1,train_y1,train_x2,train_y2,lambda1=lambda_[0],lambda2=lambda_[1],lambda3=lambda_[2],times=1000)\\nyhat=predict(test_x1,b['beta1'],test_y1)\\nprint(yhat['mae'])\\n#scaler_y1.inverse_transform(yhat['yhat'])\\n\""
      ]
     },
     "execution_count": 210,
     "metadata": {},
     "output_type": "execute_result"
    }
   ],
   "source": [
    "'''\n",
    "import itertools\n",
    "lambda1=np.linspace(0,1,num=10)\n",
    "#lambda2=np.hstack((np.linspace(80,200,num=7),np.linspace(0.1,1,num=10)))\n",
    "#lambda3=np.hstack((np.linspace(80,200,num=7),np.linspace(0.1,1,num=10)))\n",
    "lambda2=np.linspace(0.01,500,num=10)\n",
    "lambda3=np.linspace(1,700,num=10)\n",
    "\n",
    "mae=[]\n",
    "for i in itertools.product(lambda1,lambda2,lambda3):\n",
    "    b=multitask(train_x1,train_y1,train_x2,train_y2,lambda1=i[0],lambda2=i[1],lambda3=i[2],times=1000)\n",
    "    #print([i[0],i[1],i[2],predict(test_x1,test_y1,b['beta1'])['mae']])\n",
    "    mae.append([i[0],i[1],i[2],predict(test_x1,b['beta1'],test_y1)['mae']])\n",
    "\n",
    "mae=pd.DataFrame(mae)\n",
    "mae.columns=['lambda1','lambda2','lambda3','mae']\n",
    "\n",
    "\n",
    "\n",
    "lambda_=mae[mae['mae']==np.min(mae['mae'])].iloc[0,:]\n",
    "print(lambda_)\n",
    "b=multitask(train_x1,train_y1,train_x2,train_y2,lambda1=lambda_[0],lambda2=lambda_[1],lambda3=lambda_[2],times=1000)\n",
    "yhat=predict(test_x1,b['beta1'],test_y1)\n",
    "print(yhat['mae'])\n",
    "#scaler_y1.inverse_transform(yhat['yhat'])\n",
    "'''"
   ]
  },
  {
   "cell_type": "code",
   "execution_count": null,
   "metadata": {},
   "outputs": [],
   "source": []
  },
  {
   "cell_type": "code",
   "execution_count": 211,
   "metadata": {},
   "outputs": [
    {
     "name": "stdout",
     "output_type": "stream",
     "text": [
      "0.011471330717817299\n"
     ]
    }
   ],
   "source": [
    "lambda_=[0.556,500,467]\n",
    "b=multitask(train_x1,train_y1,train_x2,train_y2,lambda1=lambda_[0],lambda2=lambda_[1],lambda3=lambda_[2],times=1000)\n",
    "yhat=predict(test_x1,b['beta1'],test_y1)\n",
    "print(yhat['mae'])"
   ]
  },
  {
   "cell_type": "code",
   "execution_count": 212,
   "metadata": {},
   "outputs": [],
   "source": [
    "import time, datetime\n",
    "def ymd(d):\n",
    "    a=np.zeros(d.shape[0])\n",
    "    b=np.zeros(d.shape[0])\n",
    "    c=np.zeros(d.shape[0])\n",
    "    e=np.zeros(d.shape[0])\n",
    "    for i in range(d.shape[0]):\n",
    "        timeArray = time.strptime(str(d.index[i])[:10], \"%Y-%m-%d\")\n",
    "        a[i]=timeArray.tm_year\n",
    "        b[i]=timeArray.tm_mon\n",
    "        c[i]=timeArray.tm_mday\n",
    "        e[i]=timeArray.tm_wday\n",
    "    d['year']=(a-scaler_x1.mean_[-7])/(np.sqrt(scaler_x1.var_)[-7])\n",
    "    d['mon']=(b-scaler_x1.mean_[-6])/(np.sqrt(scaler_x1.var_)[-6])\n",
    "    d['mday']=(c-scaler_x1.mean_[-5])/(np.sqrt(scaler_x1.var_)[-5])\n",
    "    d['wday']=(e-scaler_x1.mean_[-4])/(np.sqrt(scaler_x1.var_)[-4])\n",
    "fangjiaxiaoying=pd.read_csv('/home/ruanlx/多任务学习/竞赛阶段2数据处理/fangjiaxiaoying.csv',header=None)\n",
    "fangjiaxiaoying.columns=['date','fangjiaxiaoying']\n",
    "fangjiaxiaoying.index=pd.DatetimeIndex(fangjiaxiaoying['date'])\n",
    "fangjiaxiaoying.drop('date',axis=1,inplace=True)\n",
    "fangjiaxiaoying=fangjiaxiaoying[fangjiaxiaoying.index>=start]\n",
    "fangjiaxiaoying=fangjiaxiaoying[fangjiaxiaoying.index<=end]\n",
    "fangjiaxiaoying=(fangjiaxiaoying-scaler_x1.mean_[-3])/(np.sqrt(scaler_x1.var_)[-3])\n",
    "\n",
    "isholiday=pd.read_csv('/home/ruanlx/多任务学习/竞赛阶段2数据处理/holiday.csv')\n",
    "isholiday.index=pd.DatetimeIndex(isholiday['date'])\n",
    "isholiday.drop('date',axis=1,inplace=True)\n",
    "isholiday=isholiday[isholiday.index>=start]\n",
    "isholiday=isholiday[isholiday.index<=end]\n",
    "isholiday=(isholiday-scaler_x1.mean_[-2])/(np.sqrt(scaler_x1.var_)[-2])\n",
    "#isholiday\n",
    "\n",
    "extra_weather=pd.read_csv(\"/home/ruanlx/天气爬虫/extra_wether.csv\")\n",
    "#extra_weather=extra_weather.iloc[:,1:]\n",
    "extra_weather.index=pd.DatetimeIndex(extra_weather['单据创建时间'])\n",
    "extra_weather.drop('单据创建时间',axis=1,inplace=True)\n",
    "extra_weather=extra_weather[extra_weather.index>=start]\n",
    "extra_weather=extra_weather[extra_weather.index<=end]\n",
    "extra_weather=(extra_weather-scaler_x1.mean_[-1])/(np.sqrt(scaler_x1.var_)[-1])\n",
    "\n"
   ]
  },
  {
   "cell_type": "code",
   "execution_count": 213,
   "metadata": {},
   "outputs": [],
   "source": [
    "train_index=x1.index\n",
    "train_columns=x1.columns\n",
    "x1=pd.DataFrame(scaler_x1.transform(x1))\n",
    "x1.index=train_index\n",
    "x1.columns=train_columns\n",
    "y1=pd.DataFrame(scaler_y1.transform(np.array(y1).reshape((-1,1))))\n",
    "y1=y1[0]\n",
    "y1.index=train_index"
   ]
  },
  {
   "cell_type": "code",
   "execution_count": 214,
   "metadata": {},
   "outputs": [
    {
     "data": {
      "text/plain": [
       "[<matplotlib.lines.Line2D at 0x7f51bc8bee48>]"
      ]
     },
     "execution_count": 214,
     "metadata": {},
     "output_type": "execute_result"
    },
    {
     "data": {
      "image/png": "[encoded data removed]",
      "text/plain": [
       "<Figure size 432x288 with 1 Axes>"
      ]
     },
     "metadata": {},
     "output_type": "display_data"
    }
   ],
   "source": [
    "import matplotlib.pyplot as plt\n",
    "plt.plot(np.array(data1.userfeature_1[1:]))"
   ]
  },
  {
   "cell_type": "code",
   "execution_count": 215,
   "metadata": {},
   "outputs": [
    {
     "data": {
      "text/plain": [
       "[<matplotlib.lines.Line2D at 0x7f51bc8bf668>]"
      ]
     },
     "execution_count": 215,
     "metadata": {},
     "output_type": "execute_result"
    },
    {
     "data": {
      "image/png": "[encoded data removed]",
      "text/plain": [
       "<Figure size 432x288 with 1 Axes>"
      ]
     },
     "metadata": {},
     "output_type": "display_data"
    }
   ],
   "source": [
    "plt.plot(np.array(data1.userfeature_1[1:])-np.array(data1.userfeature_1[:-1]))"
   ]
  },
  {
   "cell_type": "code",
   "execution_count": 216,
   "metadata": {},
   "outputs": [
    {
     "data": {
      "text/plain": [
       "[<matplotlib.lines.Line2D at 0x7f51bd4859b0>]"
      ]
     },
     "execution_count": 216,
     "metadata": {},
     "output_type": "execute_result"
    },
    {
     "data": {
      "image/png": "[encoded data removed]",
      "text/plain": [
       "<Figure size 432x288 with 1 Axes>"
      ]
     },
     "metadata": {},
     "output_type": "display_data"
    }
   ],
   "source": [
    "plt.plot(np.array(data1.itemfeature_1[1:])-np.array(data1.itemfeature_1[:-1]))"
   ]
  },
  {
   "cell_type": "code",
   "execution_count": 217,
   "metadata": {},
   "outputs": [
    {
     "name": "stderr",
     "output_type": "stream",
     "text": [
      "/usr/local/anaconda3/lib/python3.6/site-packages/statsmodels/tsa/base/tsa_model.py:171: ValueWarning: No frequency information was provided, so inferred frequency D will be used.\n",
      "  % freq, ValueWarning)\n",
      "/usr/local/anaconda3/lib/python3.6/site-packages/statsmodels/tsa/base/tsa_model.py:171: ValueWarning: No frequency information was provided, so inferred frequency D will be used.\n",
      "  % freq, ValueWarning)\n"
     ]
    },
    {
     "name": "stdout",
     "output_type": "stream",
     "text": [
      "userfeature_0\n"
     ]
    },
    {
     "name": "stderr",
     "output_type": "stream",
     "text": [
      "/usr/local/anaconda3/lib/python3.6/site-packages/statsmodels/tsa/base/tsa_model.py:171: ValueWarning: No frequency information was provided, so inferred frequency D will be used.\n",
      "  % freq, ValueWarning)\n",
      "/usr/local/anaconda3/lib/python3.6/site-packages/statsmodels/tsa/base/tsa_model.py:171: ValueWarning: No frequency information was provided, so inferred frequency D will be used.\n",
      "  % freq, ValueWarning)\n"
     ]
    },
    {
     "name": "stdout",
     "output_type": "stream",
     "text": [
      "userfeature_1\n",
      "MMP\n",
      "userfeature_2\n"
     ]
    },
    {
     "name": "stderr",
     "output_type": "stream",
     "text": [
      "/usr/local/anaconda3/lib/python3.6/site-packages/statsmodels/tsa/base/tsa_model.py:171: ValueWarning: No frequency information was provided, so inferred frequency D will be used.\n",
      "  % freq, ValueWarning)\n",
      "/usr/local/anaconda3/lib/python3.6/site-packages/statsmodels/tsa/base/tsa_model.py:171: ValueWarning: No frequency information was provided, so inferred frequency D will be used.\n",
      "  % freq, ValueWarning)\n",
      "/usr/local/anaconda3/lib/python3.6/site-packages/statsmodels/tsa/base/tsa_model.py:171: ValueWarning: No frequency information was provided, so inferred frequency D will be used.\n",
      "  % freq, ValueWarning)\n",
      "/usr/local/anaconda3/lib/python3.6/site-packages/statsmodels/tsa/base/tsa_model.py:171: ValueWarning: No frequency information was provided, so inferred frequency D will be used.\n",
      "  % freq, ValueWarning)\n"
     ]
    },
    {
     "name": "stdout",
     "output_type": "stream",
     "text": [
      "userfeature_3\n"
     ]
    },
    {
     "name": "stderr",
     "output_type": "stream",
     "text": [
      "/usr/local/anaconda3/lib/python3.6/site-packages/statsmodels/tsa/base/tsa_model.py:171: ValueWarning: No frequency information was provided, so inferred frequency D will be used.\n",
      "  % freq, ValueWarning)\n",
      "/usr/local/anaconda3/lib/python3.6/site-packages/statsmodels/tsa/base/tsa_model.py:171: ValueWarning: No frequency information was provided, so inferred frequency D will be used.\n",
      "  % freq, ValueWarning)\n"
     ]
    },
    {
     "name": "stdout",
     "output_type": "stream",
     "text": [
      "userfeature_4\n"
     ]
    },
    {
     "name": "stderr",
     "output_type": "stream",
     "text": [
      "/usr/local/anaconda3/lib/python3.6/site-packages/statsmodels/tsa/base/tsa_model.py:171: ValueWarning: No frequency information was provided, so inferred frequency D will be used.\n",
      "  % freq, ValueWarning)\n",
      "/usr/local/anaconda3/lib/python3.6/site-packages/statsmodels/tsa/base/tsa_model.py:171: ValueWarning: No frequency information was provided, so inferred frequency D will be used.\n",
      "  % freq, ValueWarning)\n"
     ]
    },
    {
     "name": "stdout",
     "output_type": "stream",
     "text": [
      "userfeature_5\n"
     ]
    },
    {
     "name": "stderr",
     "output_type": "stream",
     "text": [
      "/usr/local/anaconda3/lib/python3.6/site-packages/statsmodels/tsa/base/tsa_model.py:171: ValueWarning: No frequency information was provided, so inferred frequency D will be used.\n",
      "  % freq, ValueWarning)\n",
      "/usr/local/anaconda3/lib/python3.6/site-packages/statsmodels/tsa/base/tsa_model.py:171: ValueWarning: No frequency information was provided, so inferred frequency D will be used.\n",
      "  % freq, ValueWarning)\n"
     ]
    },
    {
     "name": "stdout",
     "output_type": "stream",
     "text": [
      "userfeature_6\n",
      "MMP\n",
      "userfeature_7\n"
     ]
    },
    {
     "name": "stderr",
     "output_type": "stream",
     "text": [
      "/usr/local/anaconda3/lib/python3.6/site-packages/statsmodels/tsa/base/tsa_model.py:171: ValueWarning: No frequency information was provided, so inferred frequency D will be used.\n",
      "  % freq, ValueWarning)\n",
      "/usr/local/anaconda3/lib/python3.6/site-packages/statsmodels/tsa/base/tsa_model.py:171: ValueWarning: No frequency information was provided, so inferred frequency D will be used.\n",
      "  % freq, ValueWarning)\n",
      "/usr/local/anaconda3/lib/python3.6/site-packages/statsmodels/tsa/base/tsa_model.py:171: ValueWarning: No frequency information was provided, so inferred frequency D will be used.\n",
      "  % freq, ValueWarning)\n",
      "/usr/local/anaconda3/lib/python3.6/site-packages/statsmodels/tsa/base/tsa_model.py:171: ValueWarning: No frequency information was provided, so inferred frequency D will be used.\n",
      "  % freq, ValueWarning)\n"
     ]
    },
    {
     "name": "stdout",
     "output_type": "stream",
     "text": [
      "userfeature_8\n"
     ]
    },
    {
     "name": "stderr",
     "output_type": "stream",
     "text": [
      "/usr/local/anaconda3/lib/python3.6/site-packages/statsmodels/tsa/base/tsa_model.py:171: ValueWarning: No frequency information was provided, so inferred frequency D will be used.\n",
      "  % freq, ValueWarning)\n",
      "/usr/local/anaconda3/lib/python3.6/site-packages/statsmodels/tsa/base/tsa_model.py:171: ValueWarning: No frequency information was provided, so inferred frequency D will be used.\n",
      "  % freq, ValueWarning)\n"
     ]
    },
    {
     "name": "stdout",
     "output_type": "stream",
     "text": [
      "userfeature_9\n"
     ]
    },
    {
     "name": "stderr",
     "output_type": "stream",
     "text": [
      "/usr/local/anaconda3/lib/python3.6/site-packages/statsmodels/tsa/base/tsa_model.py:171: ValueWarning: No frequency information was provided, so inferred frequency D will be used.\n",
      "  % freq, ValueWarning)\n",
      "/usr/local/anaconda3/lib/python3.6/site-packages/statsmodels/tsa/base/tsa_model.py:171: ValueWarning: No frequency information was provided, so inferred frequency D will be used.\n",
      "  % freq, ValueWarning)\n"
     ]
    },
    {
     "name": "stdout",
     "output_type": "stream",
     "text": [
      "userfeature_10\n"
     ]
    },
    {
     "name": "stderr",
     "output_type": "stream",
     "text": [
      "/usr/local/anaconda3/lib/python3.6/site-packages/statsmodels/tsa/base/tsa_model.py:171: ValueWarning: No frequency information was provided, so inferred frequency D will be used.\n",
      "  % freq, ValueWarning)\n",
      "/usr/local/anaconda3/lib/python3.6/site-packages/statsmodels/tsa/base/tsa_model.py:171: ValueWarning: No frequency information was provided, so inferred frequency D will be used.\n",
      "  % freq, ValueWarning)\n",
      "/usr/local/anaconda3/lib/python3.6/site-packages/statsmodels/tsa/base/tsa_model.py:171: ValueWarning: No frequency information was provided, so inferred frequency D will be used.\n",
      "  % freq, ValueWarning)\n",
      "/usr/local/anaconda3/lib/python3.6/site-packages/statsmodels/tsa/base/tsa_model.py:171: ValueWarning: No frequency information was provided, so inferred frequency D will be used.\n",
      "  % freq, ValueWarning)\n"
     ]
    },
    {
     "data": {
      "text/plain": [
       "2018-03-26    0.625291\n",
       "2018-03-27    0.563242\n",
       "2018-03-28    0.494135\n",
       "2018-03-29    0.436927\n",
       "2018-03-30    0.397685\n",
       "2018-03-31    0.351792\n",
       "2018-04-01    0.331427\n",
       "2018-04-02    0.325436\n",
       "2018-04-03    0.324607\n",
       "2018-04-04    0.330649\n",
       "2018-04-05    0.296854\n",
       "2018-04-06    0.286830\n",
       "2018-04-07    0.281161\n",
       "2018-04-08    0.313862\n",
       "2018-04-09    0.310395\n",
       "2018-04-10    0.312355\n",
       "2018-04-11    0.314464\n",
       "2018-04-12    0.319876\n",
       "2018-04-13    0.326555\n",
       "2018-04-14    0.330484\n",
       "2018-04-15    0.334875\n",
       "2018-04-16    0.335986\n",
       "2018-04-17    0.337037\n",
       "2018-04-18    0.332960\n",
       "2018-04-19    0.327379\n",
       "2018-04-20    0.320071\n",
       "2018-04-21    0.312827\n",
       "2018-04-22    0.312827\n",
       "Name: 0, dtype: float64"
      ]
     },
     "execution_count": 217,
     "metadata": {},
     "output_type": "execute_result"
    }
   ],
   "source": [
    "\n",
    "from statsmodels.tsa.arima_model import ARIMA\n",
    "import datetime \n",
    "def ts_predict(b,time_series,train,start,end):\n",
    "    index=pd.DatetimeIndex(start=start, end=end, freq='D')\n",
    "    start=pd.DatetimeIndex([start])\n",
    "    end=pd.DatetimeIndex([end])\n",
    "    timelength=int(((end-start).values)/86400000000000)+1\n",
    "    test=np.zeros((timelength,len(train.columns)))\n",
    "    test=pd.DataFrame(test,index=index,columns=train.columns)\n",
    "    ymd(test)\n",
    "    test['isholiday']=isholiday\n",
    "    test['极端天气']=extra_weather\n",
    "    for i in train.columns:\n",
    "        if i.split('_')[0]==\"userfeature\":\n",
    "        \n",
    "            try:\n",
    "                model_user = ARIMA(train[i],order=(7,1,0))\n",
    "                arima_result = model_user.fit()\n",
    "                test.loc[:,i] = arima_result.predict(start=(str(start.values[0]).split('T')[0]),\n",
    "                                                 end=(str(end.values[0]).split('T')[0]),\n",
    "                                                 dynamic=True) \n",
    "            except np.linalg.LinAlgError:\n",
    "                print(\"MMP\")\n",
    "            except ValueError:\n",
    "                print(\"cao\")\n",
    "            #print((str(start.values[0]).split('T')[0]))\n",
    "            print(i)\n",
    "            \n",
    "        if i.split('_')[0]==\"itemfeature\":\n",
    "            model_user = ARIMA(train[i],order=(7,1,0))\n",
    "            arima_result = model_user.fit()\n",
    "            test.loc[:,i] = arima_result.predict(start=(str(start.values[0]).split('T')[0]),\n",
    "                                                 end=(str(end.values[0]).split('T')[0]),\n",
    "                                                 dynamic=True) \n",
    "        \n",
    "            \n",
    "            \n",
    "    for i in index:      \n",
    "        if(bool(pd.isna(time_series[pd.DatetimeIndex([i-datetime.timedelta(days =1)])].values))):\n",
    "           # print(predict(np.array(test.loc[i-datetime.timedelta(days =1),:]).reshape((1,-1)),beta1=b['beta1']))\n",
    "           time_series[i-datetime.timedelta(days =1)]=float(predict(np.array(test.loc[i-datetime.timedelta(days =1),:]).reshape((1,-1)),beta1=b['beta1'])['yhat'])\n",
    "            \n",
    "                \n",
    "        for j in train.columns:\n",
    "            if j.split('_')[0]==\"重量\":\n",
    "                test.loc[i,j]=time_series[i-datetime.timedelta(days =int(j.split('_')[1]))]               \n",
    "    #print(predict(np.array(test.loc[i-datetime.timedelta(days =1),:]).reshape((1,-1)),beta1=b['beta1'])['yhat'])\n",
    "    time_series[i]=float(predict(np.array(test.loc[i-datetime.timedelta(days =1),:]).reshape((1,-1)),beta1=b['beta1'])['yhat'])\n",
    "\n",
    "    return time_series[-length:]\n",
    "a=ts_predict(b,y1,x1,start,end)\n",
    "a"
   ]
  },
  {
   "cell_type": "code",
   "execution_count": null,
   "metadata": {},
   "outputs": [],
   "source": []
  },
  {
   "cell_type": "code",
   "execution_count": 218,
   "metadata": {},
   "outputs": [
    {
     "data": {
      "text/plain": [
       "[<matplotlib.lines.Line2D at 0x7f51bd4ad0f0>]"
      ]
     },
     "execution_count": 218,
     "metadata": {},
     "output_type": "execute_result"
    },
    {
     "data": {
      "image/png": "[encoded data removed]",
      "text/plain": [
       "<Figure size 432x288 with 1 Axes>"
      ]
     },
     "metadata": {},
     "output_type": "display_data"
    }
   ],
   "source": [
    "plt.plot(y1)"
   ]
  },
  {
   "cell_type": "code",
   "execution_count": 219,
   "metadata": {},
   "outputs": [],
   "source": [
    "start=pd.DatetimeIndex([start])\n",
    "end=pd.DatetimeIndex([end])"
   ]
  },
  {
   "cell_type": "code",
   "execution_count": 220,
   "metadata": {},
   "outputs": [],
   "source": [
    "re=pd.Series(np.zeros(length))\n",
    "re.index=a.index"
   ]
  },
  {
   "cell_type": "code",
   "execution_count": null,
   "metadata": {},
   "outputs": [],
   "source": []
  },
  {
   "cell_type": "code",
   "execution_count": null,
   "metadata": {},
   "outputs": [],
   "source": []
  },
  {
   "cell_type": "code",
   "execution_count": 221,
   "metadata": {},
   "outputs": [],
   "source": [
    "ts1=((ts1)-scaler_y1.mean_/7)/np.sqrt(scaler_y1.var_)"
   ]
  },
  {
   "cell_type": "code",
   "execution_count": 222,
   "metadata": {},
   "outputs": [],
   "source": [
    "for j in range(length):\n",
    "    q=0\n",
    "    for i in range(1,lag_sum):\n",
    "        #print(ts1[start+datetime.timedelta(days =j)-datetime.timedelta(days =i)])\n",
    "        q+=ts1[start+datetime.timedelta(days =j)-datetime.timedelta(days =i)].values\n",
    "        #print(ts1[start-datetime.timedelta(days =i)])\n",
    "    re[start+datetime.timedelta(days =j)]=a[start+datetime.timedelta(days =j)]-q\n",
    "    ts1=ts1.append(re[start+datetime.timedelta(days =j)])"
   ]
  },
  {
   "cell_type": "code",
   "execution_count": null,
   "metadata": {},
   "outputs": [],
   "source": []
  },
  {
   "cell_type": "code",
   "execution_count": 223,
   "metadata": {},
   "outputs": [],
   "source": [
    "\n",
    "re=(np.exp((re*np.sqrt(scaler_y1.var_))+scaler_y1.mean_/7)-0.5)"
   ]
  },
  {
   "cell_type": "code",
   "execution_count": 224,
   "metadata": {},
   "outputs": [],
   "source": [
    "re=pd.DataFrame(re)\n",
    "re.columns=[re_col]\n",
    "re.to_csv('result_'+re_col+'.csv')"
   ]
  },
  {
   "cell_type": "code",
   "execution_count": 225,
   "metadata": {},
   "outputs": [
    {
     "data": {
      "text/html": [
       "<div>\n",
       "<style scoped>\n",
       "    .dataframe tbody tr th:only-of-type {\n",
       "        vertical-align: middle;\n",
       "    }\n",
       "\n",
       "    .dataframe tbody tr th {\n",
       "        vertical-align: top;\n",
       "    }\n",
       "\n",
       "    .dataframe thead th {\n",
       "        text-align: right;\n",
       "    }\n",
       "</style>\n",
       "<table border=\"1\" class=\"dataframe\">\n",
       "  <thead>\n",
       "    <tr style=\"text-align: right;\">\n",
       "      <th></th>\n",
       "      <th>cool_ext_week</th>\n",
       "    </tr>\n",
       "  </thead>\n",
       "  <tbody>\n",
       "    <tr>\n",
       "      <th>2018-03-26</th>\n",
       "      <td>544.354479</td>\n",
       "    </tr>\n",
       "    <tr>\n",
       "      <th>2018-03-27</th>\n",
       "      <td>6966.713450</td>\n",
       "    </tr>\n",
       "    <tr>\n",
       "      <th>2018-03-28</th>\n",
       "      <td>10480.451469</td>\n",
       "    </tr>\n",
       "    <tr>\n",
       "      <th>2018-03-29</th>\n",
       "      <td>9310.177796</td>\n",
       "    </tr>\n",
       "    <tr>\n",
       "      <th>2018-03-30</th>\n",
       "      <td>13558.744307</td>\n",
       "    </tr>\n",
       "    <tr>\n",
       "      <th>2018-03-31</th>\n",
       "      <td>7896.473325</td>\n",
       "    </tr>\n",
       "    <tr>\n",
       "      <th>2018-04-01</th>\n",
       "      <td>9640.523036</td>\n",
       "    </tr>\n",
       "    <tr>\n",
       "      <th>2018-04-02</th>\n",
       "      <td>521.863665</td>\n",
       "    </tr>\n",
       "    <tr>\n",
       "      <th>2018-04-03</th>\n",
       "      <td>6926.193153</td>\n",
       "    </tr>\n",
       "    <tr>\n",
       "      <th>2018-04-04</th>\n",
       "      <td>10935.639830</td>\n",
       "    </tr>\n",
       "    <tr>\n",
       "      <th>2018-04-05</th>\n",
       "      <td>7339.805935</td>\n",
       "    </tr>\n",
       "    <tr>\n",
       "      <th>2018-04-06</th>\n",
       "      <td>12635.292331</td>\n",
       "    </tr>\n",
       "    <tr>\n",
       "      <th>2018-04-07</th>\n",
       "      <td>7587.686428</td>\n",
       "    </tr>\n",
       "    <tr>\n",
       "      <th>2018-04-08</th>\n",
       "      <td>12134.737372</td>\n",
       "    </tr>\n",
       "    <tr>\n",
       "      <th>2018-04-09</th>\n",
       "      <td>509.274819</td>\n",
       "    </tr>\n",
       "    <tr>\n",
       "      <th>2018-04-10</th>\n",
       "      <td>7022.409254</td>\n",
       "    </tr>\n",
       "    <tr>\n",
       "      <th>2018-04-11</th>\n",
       "      <td>11099.105838</td>\n",
       "    </tr>\n",
       "    <tr>\n",
       "      <th>2018-04-12</th>\n",
       "      <td>7624.733188</td>\n",
       "    </tr>\n",
       "    <tr>\n",
       "      <th>2018-04-13</th>\n",
       "      <td>13243.272771</td>\n",
       "    </tr>\n",
       "    <tr>\n",
       "      <th>2018-04-14</th>\n",
       "      <td>7800.366044</td>\n",
       "    </tr>\n",
       "    <tr>\n",
       "      <th>2018-04-15</th>\n",
       "      <td>12515.509269</td>\n",
       "    </tr>\n",
       "    <tr>\n",
       "      <th>2018-04-16</th>\n",
       "      <td>513.275263</td>\n",
       "    </tr>\n",
       "    <tr>\n",
       "      <th>2018-04-17</th>\n",
       "      <td>7074.546541</td>\n",
       "    </tr>\n",
       "    <tr>\n",
       "      <th>2018-04-18</th>\n",
       "      <td>10785.201545</td>\n",
       "    </tr>\n",
       "    <tr>\n",
       "      <th>2018-04-19</th>\n",
       "      <td>7331.116868</td>\n",
       "    </tr>\n",
       "    <tr>\n",
       "      <th>2018-04-20</th>\n",
       "      <td>12579.529137</td>\n",
       "    </tr>\n",
       "    <tr>\n",
       "      <th>2018-04-21</th>\n",
       "      <td>7412.687453</td>\n",
       "    </tr>\n",
       "    <tr>\n",
       "      <th>2018-04-22</th>\n",
       "      <td>12515.509269</td>\n",
       "    </tr>\n",
       "  </tbody>\n",
       "</table>\n",
       "</div>"
      ],
      "text/plain": [
       "            cool_ext_week\n",
       "2018-03-26     544.354479\n",
       "2018-03-27    6966.713450\n",
       "2018-03-28   10480.451469\n",
       "2018-03-29    9310.177796\n",
       "2018-03-30   13558.744307\n",
       "2018-03-31    7896.473325\n",
       "2018-04-01    9640.523036\n",
       "2018-04-02     521.863665\n",
       "2018-04-03    6926.193153\n",
       "2018-04-04   10935.639830\n",
       "2018-04-05    7339.805935\n",
       "2018-04-06   12635.292331\n",
       "2018-04-07    7587.686428\n",
       "2018-04-08   12134.737372\n",
       "2018-04-09     509.274819\n",
       "2018-04-10    7022.409254\n",
       "2018-04-11   11099.105838\n",
       "2018-04-12    7624.733188\n",
       "2018-04-13   13243.272771\n",
       "2018-04-14    7800.366044\n",
       "2018-04-15   12515.509269\n",
       "2018-04-16     513.275263\n",
       "2018-04-17    7074.546541\n",
       "2018-04-18   10785.201545\n",
       "2018-04-19    7331.116868\n",
       "2018-04-20   12579.529137\n",
       "2018-04-21    7412.687453\n",
       "2018-04-22   12515.509269"
      ]
     },
     "execution_count": 225,
     "metadata": {},
     "output_type": "execute_result"
    }
   ],
   "source": [
    "re"
   ]
  },
  {
   "cell_type": "code",
   "execution_count": null,
   "metadata": {},
   "outputs": [],
   "source": []
  }
 ],
 "metadata": {
  "kernelspec": {
   "display_name": "Python 3",
   "language": "python",
   "name": "python3"
  },
  "language_info": {
   "codemirror_mode": {
    "name": "ipython",
    "version": 3
   },
   "file_extension": ".py",
   "mimetype": "text/x-python",
   "name": "python",
   "nbconvert_exporter": "python",
   "pygments_lexer": "ipython3",
   "version": "3.6.5"
  }
 },
 "nbformat": 4,
 "nbformat_minor": 2
}
