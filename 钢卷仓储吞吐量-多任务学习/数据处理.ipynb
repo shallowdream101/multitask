{
 "cells": [
  {
   "cell_type": "code",
   "execution_count": 1,
   "metadata": {},
   "outputs": [],
   "source": [
    "import pandas as pd\n",
    "import numpy as np"
   ]
  },
  {
   "cell_type": "code",
   "execution_count": 2,
   "metadata": {},
   "outputs": [],
   "source": [
    "juan='cool'  ##hot or cool\n",
    "ku='ext'  ##ext or in"
   ]
  },
  {
   "cell_type": "code",
   "execution_count": 3,
   "metadata": {},
   "outputs": [],
   "source": [
    "re_col=juan+'_'+ku+'_week'   ##记录 类型 和 时间跨度 和出库入库\n",
    "if juan=='cool':\n",
    "    类型='冷卷'             ##定义类型\n",
    "if juan=='hot':\n",
    "    类型='热卷'\n",
    "#length=int((pd.DatetimeIndex([end])-pd.DatetimeIndex([start])).values//86400000000000)"
   ]
  },
  {
   "cell_type": "code",
   "execution_count": 4,
   "metadata": {},
   "outputs": [],
   "source": [
    "if ku =='ext':\n",
    "    data_ext=pd.read_csv(\"./train_data/trainData_EXT.csv\")  ##出库、入库\n",
    "    newdata0=pd.read_csv('./阶段1新增数据/testData0_EXT.csv')\n",
    "    newdata1=pd.read_csv('./阶段2新增数据/testData1_EXT.csv')\n",
    "    newdata2=pd.read_csv('./阶段3新增数据/testData2_EXT.csv')\n",
    "    newdata3=pd.read_csv('./阶段4新增数据/testData3_EXT.csv')\n",
    "    newdata4=pd.read_csv('./阶段5新增数据/testData4_EXT.csv')\n",
    "if ku =='in':\n",
    "    data_ext=pd.read_csv(\"./train_data/trainData_IN.csv\")  ##出库、入库\n",
    "    newdata0=pd.read_csv('./阶段1新增数据/testData0_IN.csv')\n",
    "    newdata1=pd.read_csv('./阶段2新增数据/testData1_IN.csv')\n",
    "    newdata2=pd.read_csv('./阶段3新增数据/testData2_IN.csv')\n",
    "    newdata3=pd.read_csv('./阶段4新增数据/testData3_IN.csv')\n",
    "    newdata4=pd.read_csv('./阶段5新增数据/testData4_IN.csv')\n",
    "    "
   ]
  },
  {
   "cell_type": "code",
   "execution_count": 5,
   "metadata": {},
   "outputs": [],
   "source": [
    "data_ext.columns=[\"出库单据号\",\n",
    "\"储户id\",\n",
    "\"产品id\",\n",
    "\"产品名称\",\n",
    "\"数量\",\n",
    "\"重量\",\n",
    "\"单据状态\",\n",
    "\"单据创建时间\",\n",
    "\"单据结束时间\"]"
   ]
  },
  {
   "cell_type": "code",
   "execution_count": 6,
   "metadata": {
    "scrolled": false
   },
   "outputs": [
    {
     "name": "stdout",
     "output_type": "stream",
     "text": [
      "(350010, 9)\n",
      "341200\n"
     ]
    },
    {
     "data": {
      "text/html": [
       "<div>\n",
       "<style scoped>\n",
       "    .dataframe tbody tr th:only-of-type {\n",
       "        vertical-align: middle;\n",
       "    }\n",
       "\n",
       "    .dataframe tbody tr th {\n",
       "        vertical-align: top;\n",
       "    }\n",
       "\n",
       "    .dataframe thead th {\n",
       "        text-align: right;\n",
       "    }\n",
       "</style>\n",
       "<table border=\"1\" class=\"dataframe\">\n",
       "  <thead>\n",
       "    <tr style=\"text-align: right;\">\n",
       "      <th></th>\n",
       "      <th>出库单据号</th>\n",
       "      <th>储户id</th>\n",
       "      <th>产品id</th>\n",
       "      <th>产品名称</th>\n",
       "      <th>数量</th>\n",
       "      <th>重量</th>\n",
       "      <th>单据状态</th>\n",
       "      <th>单据创建时间</th>\n",
       "      <th>单据结束时间</th>\n",
       "    </tr>\n",
       "  </thead>\n",
       "  <tbody>\n",
       "    <tr>\n",
       "      <th>0</th>\n",
       "      <td>CK20140310001</td>\n",
       "      <td>169</td>\n",
       "      <td>3133</td>\n",
       "      <td>圆钢</td>\n",
       "      <td>21</td>\n",
       "      <td>32.7390</td>\n",
       "      <td>11</td>\n",
       "      <td>2014-03-10 22:31:47</td>\n",
       "      <td>2014-03-10 22:37:29</td>\n",
       "    </tr>\n",
       "    <tr>\n",
       "      <th>1</th>\n",
       "      <td>CK20140311001</td>\n",
       "      <td>169</td>\n",
       "      <td>3133</td>\n",
       "      <td>圆钢</td>\n",
       "      <td>7</td>\n",
       "      <td>14.4970</td>\n",
       "      <td>11</td>\n",
       "      <td>2014-03-11 12:24:33</td>\n",
       "      <td>2014-03-11 12:25:25</td>\n",
       "    </tr>\n",
       "    <tr>\n",
       "      <th>2</th>\n",
       "      <td>CK20140312001</td>\n",
       "      <td>169</td>\n",
       "      <td>3133</td>\n",
       "      <td>圆钢</td>\n",
       "      <td>71</td>\n",
       "      <td>95.2672</td>\n",
       "      <td>11</td>\n",
       "      <td>2014-03-12 18:03:37</td>\n",
       "      <td>2014-03-12 18:03:37</td>\n",
       "    </tr>\n",
       "    <tr>\n",
       "      <th>3</th>\n",
       "      <td>CK20140313002</td>\n",
       "      <td>173</td>\n",
       "      <td>3133</td>\n",
       "      <td>圆钢</td>\n",
       "      <td>8</td>\n",
       "      <td>15.7990</td>\n",
       "      <td>11</td>\n",
       "      <td>2014-03-13 13:42:16</td>\n",
       "      <td>2014-03-13 13:48:37</td>\n",
       "    </tr>\n",
       "    <tr>\n",
       "      <th>4</th>\n",
       "      <td>CK20140313001</td>\n",
       "      <td>173</td>\n",
       "      <td>3133</td>\n",
       "      <td>圆钢</td>\n",
       "      <td>32</td>\n",
       "      <td>39.6270</td>\n",
       "      <td>11</td>\n",
       "      <td>2014-03-13 11:59:07</td>\n",
       "      <td>2014-03-13 13:51:51</td>\n",
       "    </tr>\n",
       "  </tbody>\n",
       "</table>\n",
       "</div>"
      ],
      "text/plain": [
       "           出库单据号  储户id  产品id 产品名称  数量       重量  单据状态               单据创建时间  \\\n",
       "0  CK20140310001   169  3133   圆钢  21  32.7390    11  2014-03-10 22:31:47   \n",
       "1  CK20140311001   169  3133   圆钢   7  14.4970    11  2014-03-11 12:24:33   \n",
       "2  CK20140312001   169  3133   圆钢  71  95.2672    11  2014-03-12 18:03:37   \n",
       "3  CK20140313002   173  3133   圆钢   8  15.7990    11  2014-03-13 13:42:16   \n",
       "4  CK20140313001   173  3133   圆钢  32  39.6270    11  2014-03-13 11:59:07   \n",
       "\n",
       "                单据结束时间  \n",
       "0  2014-03-10 22:37:29  \n",
       "1  2014-03-11 12:25:25  \n",
       "2  2014-03-12 18:03:37  \n",
       "3  2014-03-13 13:48:37  \n",
       "4  2014-03-13 13:51:51  "
      ]
     },
     "execution_count": 6,
     "metadata": {},
     "output_type": "execute_result"
    }
   ],
   "source": [
    "print(data_ext.shape)\n",
    "print(len(np.unique(data_ext.出库单据号)))\n",
    "data_ext.head()"
   ]
  },
  {
   "cell_type": "code",
   "execution_count": null,
   "metadata": {},
   "outputs": [],
   "source": []
  },
  {
   "cell_type": "code",
   "execution_count": 7,
   "metadata": {},
   "outputs": [
    {
     "name": "stderr",
     "output_type": "stream",
     "text": [
      "/usr/local/anaconda3/lib/python3.6/site-packages/ipykernel_launcher.py:1: SettingWithCopyWarning: \n",
      "A value is trying to be set on a copy of a slice from a DataFrame\n",
      "\n",
      "See the caveats in the documentation: http://pandas.pydata.org/pandas-docs/stable/indexing.html#indexing-view-versus-copy\n",
      "  \"\"\"Entry point for launching an IPython kernel.\n"
     ]
    }
   ],
   "source": [
    "data_ext.产品名称[(data_ext.产品名称 ==\"热卷\")|(data_ext.产品名称==\"圆钢\")]=\"热卷\""
   ]
  },
  {
   "cell_type": "code",
   "execution_count": 8,
   "metadata": {},
   "outputs": [
    {
     "name": "stderr",
     "output_type": "stream",
     "text": [
      "/usr/local/anaconda3/lib/python3.6/site-packages/ipykernel_launcher.py:1: SettingWithCopyWarning: \n",
      "A value is trying to be set on a copy of a slice from a DataFrame\n",
      "\n",
      "See the caveats in the documentation: http://pandas.pydata.org/pandas-docs/stable/indexing.html#indexing-view-versus-copy\n",
      "  \"\"\"Entry point for launching an IPython kernel.\n"
     ]
    }
   ],
   "source": [
    "data_ext.产品名称[(data_ext.产品名称 !=\"热卷\")]=\"冷卷\""
   ]
  },
  {
   "cell_type": "code",
   "execution_count": 9,
   "metadata": {},
   "outputs": [
    {
     "data": {
      "text/html": [
       "<div>\n",
       "<style scoped>\n",
       "    .dataframe tbody tr th:only-of-type {\n",
       "        vertical-align: middle;\n",
       "    }\n",
       "\n",
       "    .dataframe tbody tr th {\n",
       "        vertical-align: top;\n",
       "    }\n",
       "\n",
       "    .dataframe thead th {\n",
       "        text-align: right;\n",
       "    }\n",
       "</style>\n",
       "<table border=\"1\" class=\"dataframe\">\n",
       "  <thead>\n",
       "    <tr style=\"text-align: right;\">\n",
       "      <th></th>\n",
       "      <th>出库单据号</th>\n",
       "      <th>储户id</th>\n",
       "      <th>产品id</th>\n",
       "      <th>产品名称</th>\n",
       "      <th>数量</th>\n",
       "      <th>重量</th>\n",
       "      <th>单据状态</th>\n",
       "      <th>单据创建时间</th>\n",
       "      <th>单据结束时间</th>\n",
       "    </tr>\n",
       "  </thead>\n",
       "  <tbody>\n",
       "    <tr>\n",
       "      <th>0</th>\n",
       "      <td>CK20140310001</td>\n",
       "      <td>169</td>\n",
       "      <td>3133</td>\n",
       "      <td>热卷</td>\n",
       "      <td>21</td>\n",
       "      <td>32.7390</td>\n",
       "      <td>11</td>\n",
       "      <td>2014-03-10 22:31:47</td>\n",
       "      <td>2014-03-10 22:37:29</td>\n",
       "    </tr>\n",
       "    <tr>\n",
       "      <th>1</th>\n",
       "      <td>CK20140311001</td>\n",
       "      <td>169</td>\n",
       "      <td>3133</td>\n",
       "      <td>热卷</td>\n",
       "      <td>7</td>\n",
       "      <td>14.4970</td>\n",
       "      <td>11</td>\n",
       "      <td>2014-03-11 12:24:33</td>\n",
       "      <td>2014-03-11 12:25:25</td>\n",
       "    </tr>\n",
       "    <tr>\n",
       "      <th>2</th>\n",
       "      <td>CK20140312001</td>\n",
       "      <td>169</td>\n",
       "      <td>3133</td>\n",
       "      <td>热卷</td>\n",
       "      <td>71</td>\n",
       "      <td>95.2672</td>\n",
       "      <td>11</td>\n",
       "      <td>2014-03-12 18:03:37</td>\n",
       "      <td>2014-03-12 18:03:37</td>\n",
       "    </tr>\n",
       "    <tr>\n",
       "      <th>3</th>\n",
       "      <td>CK20140313002</td>\n",
       "      <td>173</td>\n",
       "      <td>3133</td>\n",
       "      <td>热卷</td>\n",
       "      <td>8</td>\n",
       "      <td>15.7990</td>\n",
       "      <td>11</td>\n",
       "      <td>2014-03-13 13:42:16</td>\n",
       "      <td>2014-03-13 13:48:37</td>\n",
       "    </tr>\n",
       "    <tr>\n",
       "      <th>4</th>\n",
       "      <td>CK20140313001</td>\n",
       "      <td>173</td>\n",
       "      <td>3133</td>\n",
       "      <td>热卷</td>\n",
       "      <td>32</td>\n",
       "      <td>39.6270</td>\n",
       "      <td>11</td>\n",
       "      <td>2014-03-13 11:59:07</td>\n",
       "      <td>2014-03-13 13:51:51</td>\n",
       "    </tr>\n",
       "  </tbody>\n",
       "</table>\n",
       "</div>"
      ],
      "text/plain": [
       "           出库单据号  储户id  产品id 产品名称  数量       重量  单据状态               单据创建时间  \\\n",
       "0  CK20140310001   169  3133   热卷  21  32.7390    11  2014-03-10 22:31:47   \n",
       "1  CK20140311001   169  3133   热卷   7  14.4970    11  2014-03-11 12:24:33   \n",
       "2  CK20140312001   169  3133   热卷  71  95.2672    11  2014-03-12 18:03:37   \n",
       "3  CK20140313002   173  3133   热卷   8  15.7990    11  2014-03-13 13:42:16   \n",
       "4  CK20140313001   173  3133   热卷  32  39.6270    11  2014-03-13 11:59:07   \n",
       "\n",
       "                单据结束时间  \n",
       "0  2014-03-10 22:37:29  \n",
       "1  2014-03-11 12:25:25  \n",
       "2  2014-03-12 18:03:37  \n",
       "3  2014-03-13 13:48:37  \n",
       "4  2014-03-13 13:51:51  "
      ]
     },
     "execution_count": 9,
     "metadata": {},
     "output_type": "execute_result"
    }
   ],
   "source": [
    "data_ext.head()"
   ]
  },
  {
   "cell_type": "code",
   "execution_count": 10,
   "metadata": {},
   "outputs": [],
   "source": [
    "data_ext=data_ext.sort_values(by=['单据创建时间'])"
   ]
  },
  {
   "cell_type": "code",
   "execution_count": 11,
   "metadata": {},
   "outputs": [
    {
     "data": {
      "text/html": [
       "<div>\n",
       "<style scoped>\n",
       "    .dataframe tbody tr th:only-of-type {\n",
       "        vertical-align: middle;\n",
       "    }\n",
       "\n",
       "    .dataframe tbody tr th {\n",
       "        vertical-align: top;\n",
       "    }\n",
       "\n",
       "    .dataframe thead th {\n",
       "        text-align: right;\n",
       "    }\n",
       "</style>\n",
       "<table border=\"1\" class=\"dataframe\">\n",
       "  <thead>\n",
       "    <tr style=\"text-align: right;\">\n",
       "      <th></th>\n",
       "      <th>出库单据号</th>\n",
       "      <th>储户id</th>\n",
       "      <th>产品id</th>\n",
       "      <th>产品名称</th>\n",
       "      <th>数量</th>\n",
       "      <th>重量</th>\n",
       "      <th>单据状态</th>\n",
       "      <th>单据创建时间</th>\n",
       "      <th>单据结束时间</th>\n",
       "    </tr>\n",
       "  </thead>\n",
       "  <tbody>\n",
       "    <tr>\n",
       "      <th>0</th>\n",
       "      <td>CK20140310001</td>\n",
       "      <td>169</td>\n",
       "      <td>3133</td>\n",
       "      <td>热卷</td>\n",
       "      <td>21</td>\n",
       "      <td>32.7390</td>\n",
       "      <td>11</td>\n",
       "      <td>2014-03-10 22:31:47</td>\n",
       "      <td>2014-03-10 22:37:29</td>\n",
       "    </tr>\n",
       "    <tr>\n",
       "      <th>1</th>\n",
       "      <td>CK20140311001</td>\n",
       "      <td>169</td>\n",
       "      <td>3133</td>\n",
       "      <td>热卷</td>\n",
       "      <td>7</td>\n",
       "      <td>14.4970</td>\n",
       "      <td>11</td>\n",
       "      <td>2014-03-11 12:24:33</td>\n",
       "      <td>2014-03-11 12:25:25</td>\n",
       "    </tr>\n",
       "    <tr>\n",
       "      <th>2</th>\n",
       "      <td>CK20140312001</td>\n",
       "      <td>169</td>\n",
       "      <td>3133</td>\n",
       "      <td>热卷</td>\n",
       "      <td>71</td>\n",
       "      <td>95.2672</td>\n",
       "      <td>11</td>\n",
       "      <td>2014-03-12 18:03:37</td>\n",
       "      <td>2014-03-12 18:03:37</td>\n",
       "    </tr>\n",
       "    <tr>\n",
       "      <th>4</th>\n",
       "      <td>CK20140313001</td>\n",
       "      <td>173</td>\n",
       "      <td>3133</td>\n",
       "      <td>热卷</td>\n",
       "      <td>32</td>\n",
       "      <td>39.6270</td>\n",
       "      <td>11</td>\n",
       "      <td>2014-03-13 11:59:07</td>\n",
       "      <td>2014-03-13 13:51:51</td>\n",
       "    </tr>\n",
       "    <tr>\n",
       "      <th>3</th>\n",
       "      <td>CK20140313002</td>\n",
       "      <td>173</td>\n",
       "      <td>3133</td>\n",
       "      <td>热卷</td>\n",
       "      <td>8</td>\n",
       "      <td>15.7990</td>\n",
       "      <td>11</td>\n",
       "      <td>2014-03-13 13:42:16</td>\n",
       "      <td>2014-03-13 13:48:37</td>\n",
       "    </tr>\n",
       "  </tbody>\n",
       "</table>\n",
       "</div>"
      ],
      "text/plain": [
       "           出库单据号  储户id  产品id 产品名称  数量       重量  单据状态               单据创建时间  \\\n",
       "0  CK20140310001   169  3133   热卷  21  32.7390    11  2014-03-10 22:31:47   \n",
       "1  CK20140311001   169  3133   热卷   7  14.4970    11  2014-03-11 12:24:33   \n",
       "2  CK20140312001   169  3133   热卷  71  95.2672    11  2014-03-12 18:03:37   \n",
       "4  CK20140313001   173  3133   热卷  32  39.6270    11  2014-03-13 11:59:07   \n",
       "3  CK20140313002   173  3133   热卷   8  15.7990    11  2014-03-13 13:42:16   \n",
       "\n",
       "                单据结束时间  \n",
       "0  2014-03-10 22:37:29  \n",
       "1  2014-03-11 12:25:25  \n",
       "2  2014-03-12 18:03:37  \n",
       "4  2014-03-13 13:51:51  \n",
       "3  2014-03-13 13:48:37  "
      ]
     },
     "execution_count": 11,
     "metadata": {},
     "output_type": "execute_result"
    }
   ],
   "source": [
    "data_ext.head()"
   ]
  },
  {
   "cell_type": "markdown",
   "metadata": {},
   "source": [
    "# 新数据"
   ]
  },
  {
   "cell_type": "code",
   "execution_count": null,
   "metadata": {},
   "outputs": [],
   "source": []
  },
  {
   "cell_type": "code",
   "execution_count": 12,
   "metadata": {},
   "outputs": [
    {
     "name": "stderr",
     "output_type": "stream",
     "text": [
      "/usr/local/anaconda3/lib/python3.6/site-packages/ipykernel_launcher.py:10: SettingWithCopyWarning: \n",
      "A value is trying to be set on a copy of a slice from a DataFrame\n",
      "\n",
      "See the caveats in the documentation: http://pandas.pydata.org/pandas-docs/stable/indexing.html#indexing-view-versus-copy\n",
      "  # Remove the CWD from sys.path while we load stuff.\n",
      "/usr/local/anaconda3/lib/python3.6/site-packages/ipykernel_launcher.py:11: SettingWithCopyWarning: \n",
      "A value is trying to be set on a copy of a slice from a DataFrame\n",
      "\n",
      "See the caveats in the documentation: http://pandas.pydata.org/pandas-docs/stable/indexing.html#indexing-view-versus-copy\n",
      "  # This is added back by InteractiveShellApp.init_path()\n"
     ]
    }
   ],
   "source": [
    "newdata0.columns=[\"出库单据号\",\n",
    "\"储户id\",\n",
    "\"产品id\",\n",
    "\"产品名称\",\n",
    "\"数量\",\n",
    "\"重量\",\n",
    "\"单据状态\",\n",
    "\"单据创建时间\",\n",
    "\"单据结束时间\"]\n",
    "newdata0.产品名称[(newdata0.产品名称 ==\"热卷\")|(newdata0.产品名称==\"圆钢\")]=\"热卷\"\n",
    "newdata0.产品名称[(newdata0.产品名称 !=\"热卷\")]=\"冷卷\""
   ]
  },
  {
   "cell_type": "code",
   "execution_count": 13,
   "metadata": {},
   "outputs": [
    {
     "name": "stderr",
     "output_type": "stream",
     "text": [
      "/usr/local/anaconda3/lib/python3.6/site-packages/ipykernel_launcher.py:10: SettingWithCopyWarning: \n",
      "A value is trying to be set on a copy of a slice from a DataFrame\n",
      "\n",
      "See the caveats in the documentation: http://pandas.pydata.org/pandas-docs/stable/indexing.html#indexing-view-versus-copy\n",
      "  # Remove the CWD from sys.path while we load stuff.\n",
      "/usr/local/anaconda3/lib/python3.6/site-packages/ipykernel_launcher.py:11: SettingWithCopyWarning: \n",
      "A value is trying to be set on a copy of a slice from a DataFrame\n",
      "\n",
      "See the caveats in the documentation: http://pandas.pydata.org/pandas-docs/stable/indexing.html#indexing-view-versus-copy\n",
      "  # This is added back by InteractiveShellApp.init_path()\n"
     ]
    }
   ],
   "source": [
    "newdata1.columns=[\"出库单据号\",\n",
    "\"储户id\",\n",
    "\"产品id\",\n",
    "\"产品名称\",\n",
    "\"数量\",\n",
    "\"重量\",\n",
    "\"单据状态\",\n",
    "\"单据创建时间\",\n",
    "\"单据结束时间\"]\n",
    "newdata1.产品名称[(newdata1.产品名称 ==\"热卷\")|(newdata1.产品名称==\"圆钢\")]=\"热卷\"\n",
    "newdata1.产品名称[(newdata1.产品名称 !=\"热卷\")]=\"冷卷\""
   ]
  },
  {
   "cell_type": "code",
   "execution_count": 14,
   "metadata": {},
   "outputs": [
    {
     "name": "stderr",
     "output_type": "stream",
     "text": [
      "/usr/local/anaconda3/lib/python3.6/site-packages/ipykernel_launcher.py:10: SettingWithCopyWarning: \n",
      "A value is trying to be set on a copy of a slice from a DataFrame\n",
      "\n",
      "See the caveats in the documentation: http://pandas.pydata.org/pandas-docs/stable/indexing.html#indexing-view-versus-copy\n",
      "  # Remove the CWD from sys.path while we load stuff.\n",
      "/usr/local/anaconda3/lib/python3.6/site-packages/ipykernel_launcher.py:11: SettingWithCopyWarning: \n",
      "A value is trying to be set on a copy of a slice from a DataFrame\n",
      "\n",
      "See the caveats in the documentation: http://pandas.pydata.org/pandas-docs/stable/indexing.html#indexing-view-versus-copy\n",
      "  # This is added back by InteractiveShellApp.init_path()\n"
     ]
    }
   ],
   "source": [
    "newdata2.columns=[\"出库单据号\",\n",
    "\"储户id\",\n",
    "\"产品id\",\n",
    "\"产品名称\",\n",
    "\"数量\",\n",
    "\"重量\",\n",
    "\"单据状态\",\n",
    "\"单据创建时间\",\n",
    "\"单据结束时间\"]\n",
    "newdata2.产品名称[(newdata2.产品名称 ==\"热卷\")|(newdata2.产品名称==\"圆钢\")]=\"热卷\"\n",
    "newdata2.产品名称[(newdata2.产品名称 !=\"热卷\")]=\"冷卷\""
   ]
  },
  {
   "cell_type": "code",
   "execution_count": 15,
   "metadata": {},
   "outputs": [
    {
     "name": "stderr",
     "output_type": "stream",
     "text": [
      "/usr/local/anaconda3/lib/python3.6/site-packages/ipykernel_launcher.py:10: SettingWithCopyWarning: \n",
      "A value is trying to be set on a copy of a slice from a DataFrame\n",
      "\n",
      "See the caveats in the documentation: http://pandas.pydata.org/pandas-docs/stable/indexing.html#indexing-view-versus-copy\n",
      "  # Remove the CWD from sys.path while we load stuff.\n",
      "/usr/local/anaconda3/lib/python3.6/site-packages/ipykernel_launcher.py:11: SettingWithCopyWarning: \n",
      "A value is trying to be set on a copy of a slice from a DataFrame\n",
      "\n",
      "See the caveats in the documentation: http://pandas.pydata.org/pandas-docs/stable/indexing.html#indexing-view-versus-copy\n",
      "  # This is added back by InteractiveShellApp.init_path()\n"
     ]
    }
   ],
   "source": [
    "newdata3.columns=[\"出库单据号\",\n",
    "\"储户id\",\n",
    "\"产品id\",\n",
    "\"产品名称\",\n",
    "\"数量\",\n",
    "\"重量\",\n",
    "\"单据状态\",\n",
    "\"单据创建时间\",\n",
    "\"单据结束时间\"]\n",
    "newdata3.产品名称[(newdata3.产品名称 ==\"热卷\")|(newdata3.产品名称==\"圆钢\")]=\"热卷\"\n",
    "newdata3.产品名称[(newdata3.产品名称 !=\"热卷\")]=\"冷卷\""
   ]
  },
  {
   "cell_type": "code",
   "execution_count": 16,
   "metadata": {},
   "outputs": [
    {
     "name": "stderr",
     "output_type": "stream",
     "text": [
      "/usr/local/anaconda3/lib/python3.6/site-packages/ipykernel_launcher.py:10: SettingWithCopyWarning: \n",
      "A value is trying to be set on a copy of a slice from a DataFrame\n",
      "\n",
      "See the caveats in the documentation: http://pandas.pydata.org/pandas-docs/stable/indexing.html#indexing-view-versus-copy\n",
      "  # Remove the CWD from sys.path while we load stuff.\n",
      "/usr/local/anaconda3/lib/python3.6/site-packages/ipykernel_launcher.py:11: SettingWithCopyWarning: \n",
      "A value is trying to be set on a copy of a slice from a DataFrame\n",
      "\n",
      "See the caveats in the documentation: http://pandas.pydata.org/pandas-docs/stable/indexing.html#indexing-view-versus-copy\n",
      "  # This is added back by InteractiveShellApp.init_path()\n"
     ]
    }
   ],
   "source": [
    "newdata4.columns=[\"出库单据号\",\n",
    "\"储户id\",\n",
    "\"产品id\",\n",
    "\"产品名称\",\n",
    "\"数量\",\n",
    "\"重量\",\n",
    "\"单据状态\",\n",
    "\"单据创建时间\",\n",
    "\"单据结束时间\"]\n",
    "newdata4.产品名称[(newdata4.产品名称 ==\"热卷\")|(newdata4.产品名称==\"圆钢\")]=\"热卷\"\n",
    "newdata4.产品名称[(newdata4.产品名称 !=\"热卷\")]=\"冷卷\""
   ]
  },
  {
   "cell_type": "code",
   "execution_count": 17,
   "metadata": {},
   "outputs": [],
   "source": [
    "data_ext=pd.concat([data_ext,newdata0,newdata1,newdata2,newdata3,newdata4])"
   ]
  },
  {
   "cell_type": "code",
   "execution_count": 18,
   "metadata": {},
   "outputs": [
    {
     "data": {
      "text/plain": [
       "(425405, 9)"
      ]
     },
     "execution_count": 18,
     "metadata": {},
     "output_type": "execute_result"
    }
   ],
   "source": [
    "data_ext.shape"
   ]
  },
  {
   "cell_type": "code",
   "execution_count": 19,
   "metadata": {},
   "outputs": [],
   "source": [
    "data_ext=data_ext.sort_values(by=['单据创建时间'])"
   ]
  },
  {
   "cell_type": "code",
   "execution_count": 20,
   "metadata": {},
   "outputs": [],
   "source": [
    "data_ext.index=list(range(data_ext.shape[0]))"
   ]
  },
  {
   "cell_type": "markdown",
   "metadata": {},
   "source": [
    "# SVD"
   ]
  },
  {
   "cell_type": "code",
   "execution_count": null,
   "metadata": {},
   "outputs": [],
   "source": []
  },
  {
   "cell_type": "code",
   "execution_count": 21,
   "metadata": {},
   "outputs": [
    {
     "name": "stdout",
     "output_type": "stream",
     "text": [
      "21924\n",
      "67493\n",
      "102996\n",
      "144790\n",
      "88202\n"
     ]
    }
   ],
   "source": [
    "import time, datetime\n",
    "\n",
    "def year(d):\n",
    "    a=[time.strptime(i, \"%Y-%m-%d %H:%M:%S\").tm_year for i in d]\n",
    "    return np.array(a)\n",
    "y=year(data_ext.单据创建时间)\n",
    "print(sum(y==2014))\n",
    "print(sum(y==2015))\n",
    "print(sum(y==2016))\n",
    "print(sum(y==2017))\n",
    "print(sum(y==2018))\n"
   ]
  },
  {
   "cell_type": "code",
   "execution_count": 22,
   "metadata": {},
   "outputs": [
    {
     "name": "stderr",
     "output_type": "stream",
     "text": [
      "/usr/local/anaconda3/lib/python3.6/site-packages/pandas/core/generic.py:4405: SettingWithCopyWarning: \n",
      "A value is trying to be set on a copy of a slice from a DataFrame.\n",
      "Try using .loc[row_indexer,col_indexer] = value instead\n",
      "\n",
      "See the caveats in the documentation: http://pandas.pydata.org/pandas-docs/stable/indexing.html#indexing-view-versus-copy\n",
      "  self[name] = value\n",
      "/usr/local/anaconda3/lib/python3.6/site-packages/pandas/core/indexing.py:543: SettingWithCopyWarning: \n",
      "A value is trying to be set on a copy of a slice from a DataFrame.\n",
      "Try using .loc[row_indexer,col_indexer] = value instead\n",
      "\n",
      "See the caveats in the documentation: http://pandas.pydata.org/pandas-docs/stable/indexing.html#indexing-view-versus-copy\n",
      "  self.obj[item] = s\n"
     ]
    }
   ],
   "source": [
    "'''\n",
    "每个自然年一个user-item矩阵，分解得到user、item的年属性\n",
    "14,18数据太少。并入相邻年\n",
    "'''\n",
    "\n",
    "def user_item_peryear(data):##data有四列，列名：储户id，产品名称，重量，单据创建时间\n",
    "    data.单据创建时间=year(data.单据创建时间)\n",
    "    data.loc[data.单据创建时间==2014,'单据创建时间']=2015\n",
    "    data.loc[data.单据创建时间==2018,'单据创建时间']=2017\n",
    "    ui=[]\n",
    "    for i in list(np.unique(data.单据创建时间)):\n",
    "        data_tem=data[data.单据创建时间==i]\n",
    "        user_item=pd.DataFrame(np.zeros((len(np.unique(data.储户id)),len(np.unique(data.产品名称)))))\n",
    "        user_item.columns=np.unique(data.产品名称)\n",
    "        user_item.index=np.unique(data.储户id)\n",
    "        data_tem_clear=data_tem.groupby([\"单据创建时间\",\"储户id\",\"产品名称\"]).sum().reset_index()\n",
    "        for m in user_item.columns:\n",
    "            for n in user_item.index:\n",
    "                if len(data_tem_clear[(data_tem_clear.储户id==n)&(data_tem_clear.产品名称==m)].重量)!=0:\n",
    "                    #print(data_tem_clear[(data_tem_clear.储户id==n)&(data_tem_clear.产品名称==m)].重量.values)\n",
    "                    user_item.loc[n,m]=data_tem_clear[(data_tem_clear.储户id==n)&(data_tem_clear.产品名称==m)].重量.values\n",
    "        ui.append(user_item)\n",
    "    return ui\n",
    "ui=user_item_peryear(data_ext[[\"储户id\",\"产品名称\",\"重量\",\"单据创建时间\"]])    "
   ]
  },
  {
   "cell_type": "code",
   "execution_count": 23,
   "metadata": {},
   "outputs": [],
   "source": [
    "from numpy import linalg as la\n",
    "U_2015,sigma_2015,VT_2015=la.svd(ui[0])\n",
    "U_2016,sigma_2016,VT_2016=la.svd(ui[1])\n",
    "U_2017,sigma_2017,VT_2017=la.svd(ui[2])"
   ]
  },
  {
   "cell_type": "code",
   "execution_count": 24,
   "metadata": {},
   "outputs": [
    {
     "data": {
      "text/plain": [
       "array([[-9.02895771e-01, -1.38000291e-02, -7.54468545e-06, ...,\n",
       "         0.00000000e+00,  0.00000000e+00,  0.00000000e+00],\n",
       "       [-1.20506801e-03, -2.39375620e-03,  7.76463840e-05, ...,\n",
       "         0.00000000e+00,  0.00000000e+00,  0.00000000e+00],\n",
       "       [-4.93222960e-06,  7.90233511e-05,  9.99999994e-01, ...,\n",
       "         0.00000000e+00,  0.00000000e+00,  0.00000000e+00],\n",
       "       ...,\n",
       "       [ 0.00000000e+00,  0.00000000e+00,  0.00000000e+00, ...,\n",
       "         1.00000000e+00,  0.00000000e+00,  0.00000000e+00],\n",
       "       [ 0.00000000e+00,  0.00000000e+00,  0.00000000e+00, ...,\n",
       "         0.00000000e+00,  1.00000000e+00,  0.00000000e+00],\n",
       "       [ 0.00000000e+00,  0.00000000e+00,  0.00000000e+00, ...,\n",
       "         0.00000000e+00,  0.00000000e+00,  1.00000000e+00]])"
      ]
     },
     "execution_count": 24,
     "metadata": {},
     "output_type": "execute_result"
    }
   ],
   "source": [
    "U_2015"
   ]
  },
  {
   "cell_type": "code",
   "execution_count": 25,
   "metadata": {},
   "outputs": [],
   "source": [
    "U_2015=pd.DataFrame(U_2015)\n",
    "U_2015.index=np.unique(data_ext.储户id)\n",
    "\n",
    "U_2016=pd.DataFrame(U_2016)\n",
    "U_2016.index=np.unique(data_ext.储户id)\n",
    "\n",
    "U_2017=pd.DataFrame(U_2017)\n",
    "U_2017.index=np.unique(data_ext.储户id)\n",
    "\n",
    "VT_2015=pd.DataFrame(VT_2015)\n",
    "VT_2015.columns=np.unique(data_ext.产品名称)\n",
    "\n",
    "VT_2016=pd.DataFrame(VT_2016)\n",
    "VT_2016.columns=np.unique(data_ext.产品名称)\n",
    "\n",
    "VT_2017=pd.DataFrame(VT_2017)\n",
    "VT_2017.columns=np.unique(data_ext.产品名称)\n",
    "\n",
    "U=[]\n",
    "U.append(U_2015)\n",
    "U.append(U_2016)\n",
    "U.append(U_2017)\n",
    "\n",
    "VT=[]\n",
    "VT.append(VT_2015)\n",
    "VT.append(VT_2016)\n",
    "VT.append(VT_2017)"
   ]
  },
  {
   "cell_type": "code",
   "execution_count": 26,
   "metadata": {},
   "outputs": [
    {
     "name": "stdout",
     "output_type": "stream",
     "text": [
      "(136734, 9)\n"
     ]
    },
    {
     "data": {
      "text/html": [
       "<div>\n",
       "<style scoped>\n",
       "    .dataframe tbody tr th:only-of-type {\n",
       "        vertical-align: middle;\n",
       "    }\n",
       "\n",
       "    .dataframe tbody tr th {\n",
       "        vertical-align: top;\n",
       "    }\n",
       "\n",
       "    .dataframe thead th {\n",
       "        text-align: right;\n",
       "    }\n",
       "</style>\n",
       "<table border=\"1\" class=\"dataframe\">\n",
       "  <thead>\n",
       "    <tr style=\"text-align: right;\">\n",
       "      <th></th>\n",
       "      <th>出库单据号</th>\n",
       "      <th>储户id</th>\n",
       "      <th>产品id</th>\n",
       "      <th>产品名称</th>\n",
       "      <th>数量</th>\n",
       "      <th>重量</th>\n",
       "      <th>单据状态</th>\n",
       "      <th>单据创建时间</th>\n",
       "      <th>单据结束时间</th>\n",
       "    </tr>\n",
       "  </thead>\n",
       "  <tbody>\n",
       "    <tr>\n",
       "      <th>0</th>\n",
       "      <td>CK20140310001</td>\n",
       "      <td>169</td>\n",
       "      <td>3133</td>\n",
       "      <td>热卷</td>\n",
       "      <td>21</td>\n",
       "      <td>32.7390</td>\n",
       "      <td>11</td>\n",
       "      <td>2014-03-10 22:31:47</td>\n",
       "      <td>2014-03-10 22:37:29</td>\n",
       "    </tr>\n",
       "    <tr>\n",
       "      <th>1</th>\n",
       "      <td>CK20140311001</td>\n",
       "      <td>169</td>\n",
       "      <td>3133</td>\n",
       "      <td>热卷</td>\n",
       "      <td>7</td>\n",
       "      <td>14.4970</td>\n",
       "      <td>11</td>\n",
       "      <td>2014-03-11 12:24:33</td>\n",
       "      <td>2014-03-11 12:25:25</td>\n",
       "    </tr>\n",
       "    <tr>\n",
       "      <th>2</th>\n",
       "      <td>CK20140312001</td>\n",
       "      <td>169</td>\n",
       "      <td>3133</td>\n",
       "      <td>热卷</td>\n",
       "      <td>71</td>\n",
       "      <td>95.2672</td>\n",
       "      <td>11</td>\n",
       "      <td>2014-03-12 18:03:37</td>\n",
       "      <td>2014-03-12 18:03:37</td>\n",
       "    </tr>\n",
       "    <tr>\n",
       "      <th>3</th>\n",
       "      <td>CK20140313001</td>\n",
       "      <td>173</td>\n",
       "      <td>3133</td>\n",
       "      <td>热卷</td>\n",
       "      <td>32</td>\n",
       "      <td>39.6270</td>\n",
       "      <td>11</td>\n",
       "      <td>2014-03-13 11:59:07</td>\n",
       "      <td>2014-03-13 13:51:51</td>\n",
       "    </tr>\n",
       "    <tr>\n",
       "      <th>4</th>\n",
       "      <td>CK20140313002</td>\n",
       "      <td>173</td>\n",
       "      <td>3133</td>\n",
       "      <td>热卷</td>\n",
       "      <td>8</td>\n",
       "      <td>15.7990</td>\n",
       "      <td>11</td>\n",
       "      <td>2014-03-13 13:42:16</td>\n",
       "      <td>2014-03-13 13:48:37</td>\n",
       "    </tr>\n",
       "  </tbody>\n",
       "</table>\n",
       "</div>"
      ],
      "text/plain": [
       "           出库单据号  储户id  产品id 产品名称  数量       重量  单据状态               单据创建时间  \\\n",
       "0  CK20140310001   169  3133   热卷  21  32.7390    11  2014-03-10 22:31:47   \n",
       "1  CK20140311001   169  3133   热卷   7  14.4970    11  2014-03-11 12:24:33   \n",
       "2  CK20140312001   169  3133   热卷  71  95.2672    11  2014-03-12 18:03:37   \n",
       "3  CK20140313001   173  3133   热卷  32  39.6270    11  2014-03-13 11:59:07   \n",
       "4  CK20140313002   173  3133   热卷   8  15.7990    11  2014-03-13 13:42:16   \n",
       "\n",
       "                单据结束时间  \n",
       "0  2014-03-10 22:37:29  \n",
       "1  2014-03-11 12:25:25  \n",
       "2  2014-03-12 18:03:37  \n",
       "3  2014-03-13 13:51:51  \n",
       "4  2014-03-13 13:48:37  "
      ]
     },
     "execution_count": 26,
     "metadata": {},
     "output_type": "execute_result"
    }
   ],
   "source": [
    "print(data_ext[(data_ext.产品名称 ==\"热卷\")].shape)\n",
    "data_ext[(data_ext.产品名称 ==\"热卷\")].head()"
   ]
  },
  {
   "cell_type": "code",
   "execution_count": null,
   "metadata": {},
   "outputs": [],
   "source": []
  },
  {
   "cell_type": "code",
   "execution_count": 27,
   "metadata": {},
   "outputs": [],
   "source": [
    "hot_ext=data_ext[(data_ext.产品名称 ==类型)]"
   ]
  },
  {
   "cell_type": "code",
   "execution_count": null,
   "metadata": {},
   "outputs": [],
   "source": []
  },
  {
   "cell_type": "code",
   "execution_count": null,
   "metadata": {},
   "outputs": [],
   "source": []
  },
  {
   "cell_type": "code",
   "execution_count": 28,
   "metadata": {},
   "outputs": [
    {
     "name": "stdout",
     "output_type": "stream",
     "text": [
      "hot中有多少储户 868\n"
     ]
    }
   ],
   "source": [
    "print(\"hot中有多少储户\",len(np.unique(hot_ext.储户id)))"
   ]
  },
  {
   "cell_type": "code",
   "execution_count": 29,
   "metadata": {},
   "outputs": [
    {
     "name": "stderr",
     "output_type": "stream",
     "text": [
      "/usr/local/anaconda3/lib/python3.6/site-packages/pandas/core/generic.py:4405: SettingWithCopyWarning: \n",
      "A value is trying to be set on a copy of a slice from a DataFrame.\n",
      "Try using .loc[row_indexer,col_indexer] = value instead\n",
      "\n",
      "See the caveats in the documentation: http://pandas.pydata.org/pandas-docs/stable/indexing.html#indexing-view-versus-copy\n",
      "  self[name] = value\n"
     ]
    },
    {
     "data": {
      "text/html": [
       "<div>\n",
       "<style scoped>\n",
       "    .dataframe tbody tr th:only-of-type {\n",
       "        vertical-align: middle;\n",
       "    }\n",
       "\n",
       "    .dataframe tbody tr th {\n",
       "        vertical-align: top;\n",
       "    }\n",
       "\n",
       "    .dataframe thead th {\n",
       "        text-align: right;\n",
       "    }\n",
       "</style>\n",
       "<table border=\"1\" class=\"dataframe\">\n",
       "  <thead>\n",
       "    <tr style=\"text-align: right;\">\n",
       "      <th></th>\n",
       "      <th>单据创建时间</th>\n",
       "      <th>重量</th>\n",
       "    </tr>\n",
       "  </thead>\n",
       "  <tbody>\n",
       "    <tr>\n",
       "      <th>72</th>\n",
       "      <td>2014-04-08</td>\n",
       "      <td>35.581</td>\n",
       "    </tr>\n",
       "    <tr>\n",
       "      <th>73</th>\n",
       "      <td>2014-04-08</td>\n",
       "      <td>9.289</td>\n",
       "    </tr>\n",
       "    <tr>\n",
       "      <th>74</th>\n",
       "      <td>2014-04-08</td>\n",
       "      <td>2.779</td>\n",
       "    </tr>\n",
       "    <tr>\n",
       "      <th>81</th>\n",
       "      <td>2014-04-09</td>\n",
       "      <td>79.604</td>\n",
       "    </tr>\n",
       "    <tr>\n",
       "      <th>82</th>\n",
       "      <td>2014-04-09</td>\n",
       "      <td>93.296</td>\n",
       "    </tr>\n",
       "  </tbody>\n",
       "</table>\n",
       "</div>"
      ],
      "text/plain": [
       "        单据创建时间      重量\n",
       "72  2014-04-08  35.581\n",
       "73  2014-04-08   9.289\n",
       "74  2014-04-08   2.779\n",
       "81  2014-04-09  79.604\n",
       "82  2014-04-09  93.296"
      ]
     },
     "execution_count": 29,
     "metadata": {},
     "output_type": "execute_result"
    }
   ],
   "source": [
    "hot_ext_clear=hot_ext[['单据创建时间','重量']]\n",
    "def t(d):\n",
    "    return d[:10]\n",
    "hot_ext_clear.单据创建时间=list(map(t,hot_ext_clear.单据创建时间))\n",
    "hot_ext_clear.head()"
   ]
  },
  {
   "cell_type": "code",
   "execution_count": 30,
   "metadata": {},
   "outputs": [],
   "source": [
    "hot_ext_clear=hot_ext_clear.groupby([\"单据创建时间\"]).sum().reset_index()"
   ]
  },
  {
   "cell_type": "code",
   "execution_count": 31,
   "metadata": {},
   "outputs": [
    {
     "data": {
      "text/plain": [
       "'\\nimport time\\nimport math\\ndef day(d):\\n    return math.floor(int(time.mktime(time.strptime(d,\"%Y-%m-%d\")))\\n                      /86400)\\nhot_ext_clear[\\'day\\']=list(map(day,hot_ext_clear.单据创建时间))\\n'"
      ]
     },
     "execution_count": 31,
     "metadata": {},
     "output_type": "execute_result"
    }
   ],
   "source": [
    "'''\n",
    "import time\n",
    "import math\n",
    "def day(d):\n",
    "    return math.floor(int(time.mktime(time.strptime(d,\"%Y-%m-%d\")))\n",
    "                      /86400)\n",
    "hot_ext_clear['day']=list(map(day,hot_ext_clear.单据创建时间))\n",
    "'''"
   ]
  },
  {
   "cell_type": "code",
   "execution_count": 32,
   "metadata": {},
   "outputs": [
    {
     "name": "stdout",
     "output_type": "stream",
     "text": [
      "(1514, 2)\n"
     ]
    },
    {
     "data": {
      "text/html": [
       "<div>\n",
       "<style scoped>\n",
       "    .dataframe tbody tr th:only-of-type {\n",
       "        vertical-align: middle;\n",
       "    }\n",
       "\n",
       "    .dataframe tbody tr th {\n",
       "        vertical-align: top;\n",
       "    }\n",
       "\n",
       "    .dataframe thead th {\n",
       "        text-align: right;\n",
       "    }\n",
       "</style>\n",
       "<table border=\"1\" class=\"dataframe\">\n",
       "  <thead>\n",
       "    <tr style=\"text-align: right;\">\n",
       "      <th></th>\n",
       "      <th>单据创建时间</th>\n",
       "      <th>重量</th>\n",
       "    </tr>\n",
       "  </thead>\n",
       "  <tbody>\n",
       "    <tr>\n",
       "      <th>0</th>\n",
       "      <td>2014-04-08</td>\n",
       "      <td>47.649</td>\n",
       "    </tr>\n",
       "    <tr>\n",
       "      <th>1</th>\n",
       "      <td>2014-04-09</td>\n",
       "      <td>236.411</td>\n",
       "    </tr>\n",
       "    <tr>\n",
       "      <th>2</th>\n",
       "      <td>2014-04-10</td>\n",
       "      <td>23.954</td>\n",
       "    </tr>\n",
       "    <tr>\n",
       "      <th>3</th>\n",
       "      <td>2014-04-11</td>\n",
       "      <td>60.529</td>\n",
       "    </tr>\n",
       "    <tr>\n",
       "      <th>4</th>\n",
       "      <td>2014-04-12</td>\n",
       "      <td>71.323</td>\n",
       "    </tr>\n",
       "  </tbody>\n",
       "</table>\n",
       "</div>"
      ],
      "text/plain": [
       "       单据创建时间       重量\n",
       "0  2014-04-08   47.649\n",
       "1  2014-04-09  236.411\n",
       "2  2014-04-10   23.954\n",
       "3  2014-04-11   60.529\n",
       "4  2014-04-12   71.323"
      ]
     },
     "execution_count": 32,
     "metadata": {},
     "output_type": "execute_result"
    }
   ],
   "source": [
    "'''\n",
    "每天购买重量\n",
    "'''\n",
    "print(hot_ext_clear.shape)\n",
    "hot_ext_clear.head()"
   ]
  },
  {
   "cell_type": "code",
   "execution_count": null,
   "metadata": {},
   "outputs": [],
   "source": []
  },
  {
   "cell_type": "code",
   "execution_count": null,
   "metadata": {},
   "outputs": [],
   "source": []
  },
  {
   "cell_type": "code",
   "execution_count": 33,
   "metadata": {},
   "outputs": [],
   "source": [
    "d_list=pd.date_range(hot_ext_clear.单据创建时间.iloc[0],hot_ext_clear.单据创建时间.iloc[-1])"
   ]
  },
  {
   "cell_type": "code",
   "execution_count": 34,
   "metadata": {},
   "outputs": [],
   "source": [
    "\n",
    "d_list=[str(i)[:10] for i in d_list]\n",
    "d_list=pd.DataFrame(d_list)"
   ]
  },
  {
   "cell_type": "code",
   "execution_count": 35,
   "metadata": {},
   "outputs": [],
   "source": [
    "d_list.columns=['单据创建时间']\n",
    "#d_list['day_all']=list(map(day,d_list.单据创建时间))\n"
   ]
  },
  {
   "cell_type": "code",
   "execution_count": 36,
   "metadata": {},
   "outputs": [
    {
     "data": {
      "text/plain": [
       "(1532, 1)"
      ]
     },
     "execution_count": 36,
     "metadata": {},
     "output_type": "execute_result"
    }
   ],
   "source": [
    "d_list.shape"
   ]
  },
  {
   "cell_type": "code",
   "execution_count": 37,
   "metadata": {},
   "outputs": [],
   "source": [
    "hot_ext_clear=pd.merge(hot_ext_clear,d_list,how=\"right\",on=\"单据创建时间\")\n",
    "hot_ext_clear.sort_values(by=['单据创建时间'],inplace=True)\n",
    "hot_ext_clear.fillna(0,inplace=True)"
   ]
  },
  {
   "cell_type": "code",
   "execution_count": 38,
   "metadata": {},
   "outputs": [
    {
     "data": {
      "text/html": [
       "<div>\n",
       "<style scoped>\n",
       "    .dataframe tbody tr th:only-of-type {\n",
       "        vertical-align: middle;\n",
       "    }\n",
       "\n",
       "    .dataframe tbody tr th {\n",
       "        vertical-align: top;\n",
       "    }\n",
       "\n",
       "    .dataframe thead th {\n",
       "        text-align: right;\n",
       "    }\n",
       "</style>\n",
       "<table border=\"1\" class=\"dataframe\">\n",
       "  <thead>\n",
       "    <tr style=\"text-align: right;\">\n",
       "      <th></th>\n",
       "      <th>单据创建时间</th>\n",
       "      <th>重量</th>\n",
       "    </tr>\n",
       "  </thead>\n",
       "  <tbody>\n",
       "    <tr>\n",
       "      <th>0</th>\n",
       "      <td>2014-04-08</td>\n",
       "      <td>47.649</td>\n",
       "    </tr>\n",
       "    <tr>\n",
       "      <th>1</th>\n",
       "      <td>2014-04-09</td>\n",
       "      <td>236.411</td>\n",
       "    </tr>\n",
       "    <tr>\n",
       "      <th>2</th>\n",
       "      <td>2014-04-10</td>\n",
       "      <td>23.954</td>\n",
       "    </tr>\n",
       "    <tr>\n",
       "      <th>3</th>\n",
       "      <td>2014-04-11</td>\n",
       "      <td>60.529</td>\n",
       "    </tr>\n",
       "    <tr>\n",
       "      <th>4</th>\n",
       "      <td>2014-04-12</td>\n",
       "      <td>71.323</td>\n",
       "    </tr>\n",
       "  </tbody>\n",
       "</table>\n",
       "</div>"
      ],
      "text/plain": [
       "       单据创建时间       重量\n",
       "0  2014-04-08   47.649\n",
       "1  2014-04-09  236.411\n",
       "2  2014-04-10   23.954\n",
       "3  2014-04-11   60.529\n",
       "4  2014-04-12   71.323"
      ]
     },
     "execution_count": 38,
     "metadata": {},
     "output_type": "execute_result"
    }
   ],
   "source": [
    "hot_ext_clear.head()"
   ]
  },
  {
   "cell_type": "code",
   "execution_count": 39,
   "metadata": {},
   "outputs": [
    {
     "data": {
      "text/plain": [
       "(1532, 2)"
      ]
     },
     "execution_count": 39,
     "metadata": {},
     "output_type": "execute_result"
    }
   ],
   "source": [
    "hot_ext_clear.shape"
   ]
  },
  {
   "cell_type": "code",
   "execution_count": null,
   "metadata": {},
   "outputs": [],
   "source": []
  },
  {
   "cell_type": "code",
   "execution_count": null,
   "metadata": {},
   "outputs": [],
   "source": []
  },
  {
   "cell_type": "code",
   "execution_count": 40,
   "metadata": {},
   "outputs": [
    {
     "data": {
      "text/plain": [
       "'\\n春节效应造成春节期间数据过小，春节之后的预测不好，将春节部分的数据替换为预测的春节数据\\nnewdata=pd.read_csv(\"/home/ruanlx/多任务学习/log-多任务-天数据/result_\"+re_col+\".csv\")\\nnewdata.columns=[\\'单据创建时间\\',\\'重量\\']\\nhot_ext_clear.index=pd.DatetimeIndex(hot_ext_clear[\\'单据创建时间\\'])\\nhot_ext_clear=hot_ext_clear[hot_ext_clear.index<=\\'2018-1-28\\']\\nhot_ext_clear=pd.concat([hot_ext_clear,newdata])\\n'"
      ]
     },
     "execution_count": 40,
     "metadata": {},
     "output_type": "execute_result"
    }
   ],
   "source": [
    "'''\n",
    "春节效应造成春节期间数据过小，春节之后的预测不好，将春节部分的数据替换为预测的春节数据\n",
    "newdata=pd.read_csv(\"/home/ruanlx/多任务学习/log-多任务-天数据/result_\"+re_col+\".csv\")\n",
    "newdata.columns=['单据创建时间','重量']\n",
    "hot_ext_clear.index=pd.DatetimeIndex(hot_ext_clear['单据创建时间'])\n",
    "hot_ext_clear=hot_ext_clear[hot_ext_clear.index<='2018-1-28']\n",
    "hot_ext_clear=pd.concat([hot_ext_clear,newdata])\n",
    "'''"
   ]
  },
  {
   "cell_type": "code",
   "execution_count": null,
   "metadata": {},
   "outputs": [],
   "source": []
  },
  {
   "cell_type": "code",
   "execution_count": null,
   "metadata": {},
   "outputs": [],
   "source": []
  },
  {
   "cell_type": "code",
   "execution_count": 41,
   "metadata": {},
   "outputs": [],
   "source": [
    "lag=list(range(1,35))+[90,91,92,93,94,95,180,181,182,183,184,185,363,364,365,366,367]\n",
    "for i in lag:\n",
    "    hot_ext_clear['重量_'+str(i)]=hot_ext_clear.重量.shift(i)"
   ]
  },
  {
   "cell_type": "code",
   "execution_count": 42,
   "metadata": {},
   "outputs": [],
   "source": [
    "isholiday=pd.read_csv('holiday.csv')\n",
    "isholiday.index=pd.DatetimeIndex(isholiday['date'])\n",
    "isholiday.drop('date',axis=1,inplace=True)\n",
    "for i in lag:\n",
    "    isholiday['isholiday_'+str(i)]=isholiday['isholiday'].shift(i)/i"
   ]
  },
  {
   "cell_type": "code",
   "execution_count": 43,
   "metadata": {},
   "outputs": [],
   "source": [
    "fangjiaxiaoying=isholiday.sum(axis=1)\n",
    "fangjiaxiaoying.to_csv('fangjiaxiaoying.csv')"
   ]
  },
  {
   "cell_type": "code",
   "execution_count": 44,
   "metadata": {},
   "outputs": [
    {
     "name": "stderr",
     "output_type": "stream",
     "text": [
      "/usr/local/anaconda3/lib/python3.6/site-packages/pandas/core/generic.py:4405: SettingWithCopyWarning: \n",
      "A value is trying to be set on a copy of a slice from a DataFrame.\n",
      "Try using .loc[row_indexer,col_indexer] = value instead\n",
      "\n",
      "See the caveats in the documentation: http://pandas.pydata.org/pandas-docs/stable/indexing.html#indexing-view-versus-copy\n",
      "  self[name] = value\n",
      "/usr/local/anaconda3/lib/python3.6/site-packages/ipykernel_launcher.py:7: SettingWithCopyWarning: \n",
      "A value is trying to be set on a copy of a slice from a DataFrame.\n",
      "Try using .loc[row_indexer,col_indexer] = value instead\n",
      "\n",
      "See the caveats in the documentation: http://pandas.pydata.org/pandas-docs/stable/indexing.html#indexing-view-versus-copy\n",
      "  import sys\n"
     ]
    },
    {
     "data": {
      "text/html": [
       "<div>\n",
       "<style scoped>\n",
       "    .dataframe tbody tr th:only-of-type {\n",
       "        vertical-align: middle;\n",
       "    }\n",
       "\n",
       "    .dataframe tbody tr th {\n",
       "        vertical-align: top;\n",
       "    }\n",
       "\n",
       "    .dataframe thead th {\n",
       "        text-align: right;\n",
       "    }\n",
       "</style>\n",
       "<table border=\"1\" class=\"dataframe\">\n",
       "  <thead>\n",
       "    <tr style=\"text-align: right;\">\n",
       "      <th></th>\n",
       "      <th>单据创建时间</th>\n",
       "      <th>储户id</th>\n",
       "      <th>产品名称</th>\n",
       "      <th>year</th>\n",
       "    </tr>\n",
       "  </thead>\n",
       "  <tbody>\n",
       "    <tr>\n",
       "      <th>72</th>\n",
       "      <td>2014-04-08</td>\n",
       "      <td>189</td>\n",
       "      <td>冷卷</td>\n",
       "      <td>2014</td>\n",
       "    </tr>\n",
       "    <tr>\n",
       "      <th>73</th>\n",
       "      <td>2014-04-08</td>\n",
       "      <td>189</td>\n",
       "      <td>冷卷</td>\n",
       "      <td>2014</td>\n",
       "    </tr>\n",
       "    <tr>\n",
       "      <th>74</th>\n",
       "      <td>2014-04-08</td>\n",
       "      <td>189</td>\n",
       "      <td>冷卷</td>\n",
       "      <td>2014</td>\n",
       "    </tr>\n",
       "    <tr>\n",
       "      <th>81</th>\n",
       "      <td>2014-04-09</td>\n",
       "      <td>192</td>\n",
       "      <td>冷卷</td>\n",
       "      <td>2014</td>\n",
       "    </tr>\n",
       "    <tr>\n",
       "      <th>82</th>\n",
       "      <td>2014-04-09</td>\n",
       "      <td>192</td>\n",
       "      <td>冷卷</td>\n",
       "      <td>2014</td>\n",
       "    </tr>\n",
       "  </tbody>\n",
       "</table>\n",
       "</div>"
      ],
      "text/plain": [
       "        单据创建时间  储户id 产品名称  year\n",
       "72  2014-04-08   189   冷卷  2014\n",
       "73  2014-04-08   189   冷卷  2014\n",
       "74  2014-04-08   189   冷卷  2014\n",
       "81  2014-04-09   192   冷卷  2014\n",
       "82  2014-04-09   192   冷卷  2014"
      ]
     },
     "execution_count": 44,
     "metadata": {},
     "output_type": "execute_result"
    }
   ],
   "source": [
    "hot_ext_user=hot_ext[['单据创建时间','储户id','产品名称']]\n",
    "def t_10(d):\n",
    "    return d[:10]\n",
    "def t_4(d):\n",
    "    return int(d[:4])\n",
    "hot_ext_user.单据创建时间=list(map(t_10,hot_ext_user.单据创建时间))\n",
    "hot_ext_user['year']=list(map(t_4,hot_ext_user.单据创建时间))\n",
    "hot_ext_user.head()"
   ]
  },
  {
   "cell_type": "code",
   "execution_count": 45,
   "metadata": {},
   "outputs": [
    {
     "name": "stderr",
     "output_type": "stream",
     "text": [
      "/usr/local/anaconda3/lib/python3.6/site-packages/pandas/core/indexing.py:543: SettingWithCopyWarning: \n",
      "A value is trying to be set on a copy of a slice from a DataFrame.\n",
      "Try using .loc[row_indexer,col_indexer] = value instead\n",
      "\n",
      "See the caveats in the documentation: http://pandas.pydata.org/pandas-docs/stable/indexing.html#indexing-view-versus-copy\n",
      "  self.obj[item] = s\n"
     ]
    },
    {
     "data": {
      "text/html": [
       "<div>\n",
       "<style scoped>\n",
       "    .dataframe tbody tr th:only-of-type {\n",
       "        vertical-align: middle;\n",
       "    }\n",
       "\n",
       "    .dataframe tbody tr th {\n",
       "        vertical-align: top;\n",
       "    }\n",
       "\n",
       "    .dataframe thead th {\n",
       "        text-align: right;\n",
       "    }\n",
       "</style>\n",
       "<table border=\"1\" class=\"dataframe\">\n",
       "  <thead>\n",
       "    <tr style=\"text-align: right;\">\n",
       "      <th></th>\n",
       "      <th>单据创建时间</th>\n",
       "      <th>储户id</th>\n",
       "      <th>产品名称</th>\n",
       "      <th>year</th>\n",
       "    </tr>\n",
       "  </thead>\n",
       "  <tbody>\n",
       "    <tr>\n",
       "      <th>72</th>\n",
       "      <td>2014-04-08</td>\n",
       "      <td>189</td>\n",
       "      <td>冷卷</td>\n",
       "      <td>2015</td>\n",
       "    </tr>\n",
       "    <tr>\n",
       "      <th>73</th>\n",
       "      <td>2014-04-08</td>\n",
       "      <td>189</td>\n",
       "      <td>冷卷</td>\n",
       "      <td>2015</td>\n",
       "    </tr>\n",
       "    <tr>\n",
       "      <th>74</th>\n",
       "      <td>2014-04-08</td>\n",
       "      <td>189</td>\n",
       "      <td>冷卷</td>\n",
       "      <td>2015</td>\n",
       "    </tr>\n",
       "    <tr>\n",
       "      <th>81</th>\n",
       "      <td>2014-04-09</td>\n",
       "      <td>192</td>\n",
       "      <td>冷卷</td>\n",
       "      <td>2015</td>\n",
       "    </tr>\n",
       "    <tr>\n",
       "      <th>82</th>\n",
       "      <td>2014-04-09</td>\n",
       "      <td>192</td>\n",
       "      <td>冷卷</td>\n",
       "      <td>2015</td>\n",
       "    </tr>\n",
       "  </tbody>\n",
       "</table>\n",
       "</div>"
      ],
      "text/plain": [
       "        单据创建时间  储户id 产品名称  year\n",
       "72  2014-04-08   189   冷卷  2015\n",
       "73  2014-04-08   189   冷卷  2015\n",
       "74  2014-04-08   189   冷卷  2015\n",
       "81  2014-04-09   192   冷卷  2015\n",
       "82  2014-04-09   192   冷卷  2015"
      ]
     },
     "execution_count": 45,
     "metadata": {},
     "output_type": "execute_result"
    }
   ],
   "source": [
    "hot_ext_user.loc[hot_ext_user.year==2014,'year']=2015\n",
    "hot_ext_user.loc[hot_ext_user.year==2018,'year']=2017\n",
    "hot_ext_user.head()"
   ]
  },
  {
   "cell_type": "code",
   "execution_count": 46,
   "metadata": {},
   "outputs": [
    {
     "data": {
      "text/plain": [
       "(288671, 4)"
      ]
     },
     "execution_count": 46,
     "metadata": {},
     "output_type": "execute_result"
    }
   ],
   "source": [
    "hot_ext_user.shape"
   ]
  },
  {
   "cell_type": "code",
   "execution_count": 47,
   "metadata": {},
   "outputs": [],
   "source": [
    "user_feature=[]\n",
    "for i in range(hot_ext_user.shape[0]):\n",
    "    if np.isnan(hot_ext_user.储户id.iloc[i]):\n",
    "        user_feature.append(U[hot_ext_user.year.iloc[i]-2015].loc[hot_ext_user.储户id.iloc[i],:].iloc[0,:])\n",
    "    else:\n",
    "        user_feature.append(\n",
    "            U[hot_ext_user.year.iloc[i]-2015].loc[hot_ext_user.储户id.iloc[i],:])"
   ]
  },
  {
   "cell_type": "code",
   "execution_count": 48,
   "metadata": {},
   "outputs": [],
   "source": [
    "#np.array(list(range(199615)))[np.array([len(i) for i in user_feature])==64]"
   ]
  },
  {
   "cell_type": "code",
   "execution_count": null,
   "metadata": {},
   "outputs": [],
   "source": []
  },
  {
   "cell_type": "code",
   "execution_count": 49,
   "metadata": {},
   "outputs": [],
   "source": [
    "item_feature=[]\n",
    "for i in range(hot_ext_user.shape[0]):\n",
    "    item_feature.append(\n",
    "        VT[hot_ext_user.year.iloc[i]-2015].loc[:,hot_ext_user.产品名称.iloc[i]])"
   ]
  },
  {
   "cell_type": "code",
   "execution_count": null,
   "metadata": {},
   "outputs": [],
   "source": []
  },
  {
   "cell_type": "code",
   "execution_count": 50,
   "metadata": {},
   "outputs": [
    {
     "data": {
      "text/plain": [
       "(288671, 1000)"
      ]
     },
     "execution_count": 50,
     "metadata": {},
     "output_type": "execute_result"
    }
   ],
   "source": [
    "user_feature=np.array(user_feature)\n",
    "user_feature.shape"
   ]
  },
  {
   "cell_type": "code",
   "execution_count": 51,
   "metadata": {},
   "outputs": [
    {
     "data": {
      "text/plain": [
       "(288671, 2)"
      ]
     },
     "execution_count": 51,
     "metadata": {},
     "output_type": "execute_result"
    }
   ],
   "source": [
    "item_feature=np.array(item_feature)\n",
    "item_feature.shape"
   ]
  },
  {
   "cell_type": "code",
   "execution_count": 52,
   "metadata": {},
   "outputs": [],
   "source": [
    "hot_ext_user=np.array(hot_ext_user)"
   ]
  },
  {
   "cell_type": "code",
   "execution_count": 53,
   "metadata": {},
   "outputs": [
    {
     "data": {
      "text/plain": [
       "(288671, 4)"
      ]
     },
     "execution_count": 53,
     "metadata": {},
     "output_type": "execute_result"
    }
   ],
   "source": [
    "hot_ext_user.shape"
   ]
  },
  {
   "cell_type": "code",
   "execution_count": 54,
   "metadata": {},
   "outputs": [],
   "source": [
    "hot_ext_user=pd.DataFrame(np.hstack([hot_ext_user,user_feature]))"
   ]
  },
  {
   "cell_type": "code",
   "execution_count": 55,
   "metadata": {},
   "outputs": [],
   "source": [
    "hot_ext_user=pd.DataFrame(np.hstack([hot_ext_user,item_feature]))"
   ]
  },
  {
   "cell_type": "code",
   "execution_count": 56,
   "metadata": {},
   "outputs": [
    {
     "data": {
      "text/plain": [
       "(288671, 1006)"
      ]
     },
     "execution_count": 56,
     "metadata": {},
     "output_type": "execute_result"
    }
   ],
   "source": [
    "hot_ext_user.shape"
   ]
  },
  {
   "cell_type": "code",
   "execution_count": 57,
   "metadata": {},
   "outputs": [
    {
     "data": {
      "text/html": [
       "<div>\n",
       "<style scoped>\n",
       "    .dataframe tbody tr th:only-of-type {\n",
       "        vertical-align: middle;\n",
       "    }\n",
       "\n",
       "    .dataframe tbody tr th {\n",
       "        vertical-align: top;\n",
       "    }\n",
       "\n",
       "    .dataframe thead th {\n",
       "        text-align: right;\n",
       "    }\n",
       "</style>\n",
       "<table border=\"1\" class=\"dataframe\">\n",
       "  <thead>\n",
       "    <tr style=\"text-align: right;\">\n",
       "      <th></th>\n",
       "      <th>0</th>\n",
       "      <th>1</th>\n",
       "      <th>2</th>\n",
       "      <th>3</th>\n",
       "      <th>4</th>\n",
       "      <th>5</th>\n",
       "      <th>6</th>\n",
       "      <th>7</th>\n",
       "      <th>8</th>\n",
       "      <th>9</th>\n",
       "      <th>...</th>\n",
       "      <th>996</th>\n",
       "      <th>997</th>\n",
       "      <th>998</th>\n",
       "      <th>999</th>\n",
       "      <th>1000</th>\n",
       "      <th>1001</th>\n",
       "      <th>1002</th>\n",
       "      <th>1003</th>\n",
       "      <th>1004</th>\n",
       "      <th>1005</th>\n",
       "    </tr>\n",
       "  </thead>\n",
       "  <tbody>\n",
       "    <tr>\n",
       "      <th>0</th>\n",
       "      <td>2014-04-08</td>\n",
       "      <td>189</td>\n",
       "      <td>冷卷</td>\n",
       "      <td>2015</td>\n",
       "      <td>-0.0998559</td>\n",
       "      <td>0.187549</td>\n",
       "      <td>-1.33451e-05</td>\n",
       "      <td>0</td>\n",
       "      <td>0</td>\n",
       "      <td>0.00099121</td>\n",
       "      <td>...</td>\n",
       "      <td>0</td>\n",
       "      <td>0</td>\n",
       "      <td>0</td>\n",
       "      <td>0</td>\n",
       "      <td>0</td>\n",
       "      <td>0</td>\n",
       "      <td>0</td>\n",
       "      <td>0</td>\n",
       "      <td>-0.332123</td>\n",
       "      <td>0.943236</td>\n",
       "    </tr>\n",
       "    <tr>\n",
       "      <th>1</th>\n",
       "      <td>2014-04-08</td>\n",
       "      <td>189</td>\n",
       "      <td>冷卷</td>\n",
       "      <td>2015</td>\n",
       "      <td>-0.0998559</td>\n",
       "      <td>0.187549</td>\n",
       "      <td>-1.33451e-05</td>\n",
       "      <td>0</td>\n",
       "      <td>0</td>\n",
       "      <td>0.00099121</td>\n",
       "      <td>...</td>\n",
       "      <td>0</td>\n",
       "      <td>0</td>\n",
       "      <td>0</td>\n",
       "      <td>0</td>\n",
       "      <td>0</td>\n",
       "      <td>0</td>\n",
       "      <td>0</td>\n",
       "      <td>0</td>\n",
       "      <td>-0.332123</td>\n",
       "      <td>0.943236</td>\n",
       "    </tr>\n",
       "    <tr>\n",
       "      <th>2</th>\n",
       "      <td>2014-04-08</td>\n",
       "      <td>189</td>\n",
       "      <td>冷卷</td>\n",
       "      <td>2015</td>\n",
       "      <td>-0.0998559</td>\n",
       "      <td>0.187549</td>\n",
       "      <td>-1.33451e-05</td>\n",
       "      <td>0</td>\n",
       "      <td>0</td>\n",
       "      <td>0.00099121</td>\n",
       "      <td>...</td>\n",
       "      <td>0</td>\n",
       "      <td>0</td>\n",
       "      <td>0</td>\n",
       "      <td>0</td>\n",
       "      <td>0</td>\n",
       "      <td>0</td>\n",
       "      <td>0</td>\n",
       "      <td>0</td>\n",
       "      <td>-0.332123</td>\n",
       "      <td>0.943236</td>\n",
       "    </tr>\n",
       "    <tr>\n",
       "      <th>3</th>\n",
       "      <td>2014-04-09</td>\n",
       "      <td>192</td>\n",
       "      <td>冷卷</td>\n",
       "      <td>2015</td>\n",
       "      <td>-0.155807</td>\n",
       "      <td>0.0179031</td>\n",
       "      <td>9.2099e-07</td>\n",
       "      <td>0</td>\n",
       "      <td>0</td>\n",
       "      <td>-0.000918557</td>\n",
       "      <td>...</td>\n",
       "      <td>0</td>\n",
       "      <td>0</td>\n",
       "      <td>0</td>\n",
       "      <td>0</td>\n",
       "      <td>0</td>\n",
       "      <td>0</td>\n",
       "      <td>0</td>\n",
       "      <td>0</td>\n",
       "      <td>-0.332123</td>\n",
       "      <td>0.943236</td>\n",
       "    </tr>\n",
       "    <tr>\n",
       "      <th>4</th>\n",
       "      <td>2014-04-09</td>\n",
       "      <td>192</td>\n",
       "      <td>冷卷</td>\n",
       "      <td>2015</td>\n",
       "      <td>-0.155807</td>\n",
       "      <td>0.0179031</td>\n",
       "      <td>9.2099e-07</td>\n",
       "      <td>0</td>\n",
       "      <td>0</td>\n",
       "      <td>-0.000918557</td>\n",
       "      <td>...</td>\n",
       "      <td>0</td>\n",
       "      <td>0</td>\n",
       "      <td>0</td>\n",
       "      <td>0</td>\n",
       "      <td>0</td>\n",
       "      <td>0</td>\n",
       "      <td>0</td>\n",
       "      <td>0</td>\n",
       "      <td>-0.332123</td>\n",
       "      <td>0.943236</td>\n",
       "    </tr>\n",
       "  </tbody>\n",
       "</table>\n",
       "<p>5 rows × 1006 columns</p>\n",
       "</div>"
      ],
      "text/plain": [
       "         0    1    2     3          4          5            6    7    8     \\\n",
       "0  2014-04-08  189   冷卷  2015 -0.0998559   0.187549 -1.33451e-05    0    0   \n",
       "1  2014-04-08  189   冷卷  2015 -0.0998559   0.187549 -1.33451e-05    0    0   \n",
       "2  2014-04-08  189   冷卷  2015 -0.0998559   0.187549 -1.33451e-05    0    0   \n",
       "3  2014-04-09  192   冷卷  2015  -0.155807  0.0179031   9.2099e-07    0    0   \n",
       "4  2014-04-09  192   冷卷  2015  -0.155807  0.0179031   9.2099e-07    0    0   \n",
       "\n",
       "          9       ...    996  997  998  999  1000 1001 1002 1003      1004  \\\n",
       "0   0.00099121    ...       0    0    0    0    0    0    0    0 -0.332123   \n",
       "1   0.00099121    ...       0    0    0    0    0    0    0    0 -0.332123   \n",
       "2   0.00099121    ...       0    0    0    0    0    0    0    0 -0.332123   \n",
       "3 -0.000918557    ...       0    0    0    0    0    0    0    0 -0.332123   \n",
       "4 -0.000918557    ...       0    0    0    0    0    0    0    0 -0.332123   \n",
       "\n",
       "       1005  \n",
       "0  0.943236  \n",
       "1  0.943236  \n",
       "2  0.943236  \n",
       "3  0.943236  \n",
       "4  0.943236  \n",
       "\n",
       "[5 rows x 1006 columns]"
      ]
     },
     "execution_count": 57,
     "metadata": {},
     "output_type": "execute_result"
    }
   ],
   "source": [
    "hot_ext_user.head()"
   ]
  },
  {
   "cell_type": "code",
   "execution_count": 58,
   "metadata": {},
   "outputs": [],
   "source": [
    "col_list=['单据创建时间',\t'储户id',\t'产品名称',\t'year']\n",
    "col_list=col_list+['userfeature_'+str(i) for i in range(len(np.unique(data_ext['储户id'])))]\n",
    "col_list=col_list+['itemfeature_'+str(i) for i in range(2)]\n",
    "hot_ext_user.columns=col_list"
   ]
  },
  {
   "cell_type": "code",
   "execution_count": 59,
   "metadata": {},
   "outputs": [
    {
     "data": {
      "text/html": [
       "<div>\n",
       "<style scoped>\n",
       "    .dataframe tbody tr th:only-of-type {\n",
       "        vertical-align: middle;\n",
       "    }\n",
       "\n",
       "    .dataframe tbody tr th {\n",
       "        vertical-align: top;\n",
       "    }\n",
       "\n",
       "    .dataframe thead th {\n",
       "        text-align: right;\n",
       "    }\n",
       "</style>\n",
       "<table border=\"1\" class=\"dataframe\">\n",
       "  <thead>\n",
       "    <tr style=\"text-align: right;\">\n",
       "      <th></th>\n",
       "      <th>单据创建时间</th>\n",
       "      <th>储户id</th>\n",
       "      <th>产品名称</th>\n",
       "      <th>year</th>\n",
       "      <th>userfeature_0</th>\n",
       "      <th>userfeature_1</th>\n",
       "      <th>userfeature_2</th>\n",
       "      <th>userfeature_3</th>\n",
       "      <th>userfeature_4</th>\n",
       "      <th>userfeature_5</th>\n",
       "      <th>...</th>\n",
       "      <th>userfeature_992</th>\n",
       "      <th>userfeature_993</th>\n",
       "      <th>userfeature_994</th>\n",
       "      <th>userfeature_995</th>\n",
       "      <th>userfeature_996</th>\n",
       "      <th>userfeature_997</th>\n",
       "      <th>userfeature_998</th>\n",
       "      <th>userfeature_999</th>\n",
       "      <th>itemfeature_0</th>\n",
       "      <th>itemfeature_1</th>\n",
       "    </tr>\n",
       "  </thead>\n",
       "  <tbody>\n",
       "    <tr>\n",
       "      <th>0</th>\n",
       "      <td>2014-04-08</td>\n",
       "      <td>189</td>\n",
       "      <td>冷卷</td>\n",
       "      <td>2015</td>\n",
       "      <td>-0.0998559</td>\n",
       "      <td>0.187549</td>\n",
       "      <td>-1.33451e-05</td>\n",
       "      <td>0</td>\n",
       "      <td>0</td>\n",
       "      <td>0.00099121</td>\n",
       "      <td>...</td>\n",
       "      <td>0</td>\n",
       "      <td>0</td>\n",
       "      <td>0</td>\n",
       "      <td>0</td>\n",
       "      <td>0</td>\n",
       "      <td>0</td>\n",
       "      <td>0</td>\n",
       "      <td>0</td>\n",
       "      <td>-0.332123</td>\n",
       "      <td>0.943236</td>\n",
       "    </tr>\n",
       "    <tr>\n",
       "      <th>1</th>\n",
       "      <td>2014-04-08</td>\n",
       "      <td>189</td>\n",
       "      <td>冷卷</td>\n",
       "      <td>2015</td>\n",
       "      <td>-0.0998559</td>\n",
       "      <td>0.187549</td>\n",
       "      <td>-1.33451e-05</td>\n",
       "      <td>0</td>\n",
       "      <td>0</td>\n",
       "      <td>0.00099121</td>\n",
       "      <td>...</td>\n",
       "      <td>0</td>\n",
       "      <td>0</td>\n",
       "      <td>0</td>\n",
       "      <td>0</td>\n",
       "      <td>0</td>\n",
       "      <td>0</td>\n",
       "      <td>0</td>\n",
       "      <td>0</td>\n",
       "      <td>-0.332123</td>\n",
       "      <td>0.943236</td>\n",
       "    </tr>\n",
       "    <tr>\n",
       "      <th>2</th>\n",
       "      <td>2014-04-08</td>\n",
       "      <td>189</td>\n",
       "      <td>冷卷</td>\n",
       "      <td>2015</td>\n",
       "      <td>-0.0998559</td>\n",
       "      <td>0.187549</td>\n",
       "      <td>-1.33451e-05</td>\n",
       "      <td>0</td>\n",
       "      <td>0</td>\n",
       "      <td>0.00099121</td>\n",
       "      <td>...</td>\n",
       "      <td>0</td>\n",
       "      <td>0</td>\n",
       "      <td>0</td>\n",
       "      <td>0</td>\n",
       "      <td>0</td>\n",
       "      <td>0</td>\n",
       "      <td>0</td>\n",
       "      <td>0</td>\n",
       "      <td>-0.332123</td>\n",
       "      <td>0.943236</td>\n",
       "    </tr>\n",
       "    <tr>\n",
       "      <th>3</th>\n",
       "      <td>2014-04-09</td>\n",
       "      <td>192</td>\n",
       "      <td>冷卷</td>\n",
       "      <td>2015</td>\n",
       "      <td>-0.155807</td>\n",
       "      <td>0.0179031</td>\n",
       "      <td>9.2099e-07</td>\n",
       "      <td>0</td>\n",
       "      <td>0</td>\n",
       "      <td>-0.000918557</td>\n",
       "      <td>...</td>\n",
       "      <td>0</td>\n",
       "      <td>0</td>\n",
       "      <td>0</td>\n",
       "      <td>0</td>\n",
       "      <td>0</td>\n",
       "      <td>0</td>\n",
       "      <td>0</td>\n",
       "      <td>0</td>\n",
       "      <td>-0.332123</td>\n",
       "      <td>0.943236</td>\n",
       "    </tr>\n",
       "    <tr>\n",
       "      <th>4</th>\n",
       "      <td>2014-04-09</td>\n",
       "      <td>192</td>\n",
       "      <td>冷卷</td>\n",
       "      <td>2015</td>\n",
       "      <td>-0.155807</td>\n",
       "      <td>0.0179031</td>\n",
       "      <td>9.2099e-07</td>\n",
       "      <td>0</td>\n",
       "      <td>0</td>\n",
       "      <td>-0.000918557</td>\n",
       "      <td>...</td>\n",
       "      <td>0</td>\n",
       "      <td>0</td>\n",
       "      <td>0</td>\n",
       "      <td>0</td>\n",
       "      <td>0</td>\n",
       "      <td>0</td>\n",
       "      <td>0</td>\n",
       "      <td>0</td>\n",
       "      <td>-0.332123</td>\n",
       "      <td>0.943236</td>\n",
       "    </tr>\n",
       "  </tbody>\n",
       "</table>\n",
       "<p>5 rows × 1006 columns</p>\n",
       "</div>"
      ],
      "text/plain": [
       "       单据创建时间 储户id 产品名称  year userfeature_0 userfeature_1 userfeature_2  \\\n",
       "0  2014-04-08  189   冷卷  2015    -0.0998559      0.187549  -1.33451e-05   \n",
       "1  2014-04-08  189   冷卷  2015    -0.0998559      0.187549  -1.33451e-05   \n",
       "2  2014-04-08  189   冷卷  2015    -0.0998559      0.187549  -1.33451e-05   \n",
       "3  2014-04-09  192   冷卷  2015     -0.155807     0.0179031    9.2099e-07   \n",
       "4  2014-04-09  192   冷卷  2015     -0.155807     0.0179031    9.2099e-07   \n",
       "\n",
       "  userfeature_3 userfeature_4 userfeature_5      ...      userfeature_992  \\\n",
       "0             0             0    0.00099121      ...                    0   \n",
       "1             0             0    0.00099121      ...                    0   \n",
       "2             0             0    0.00099121      ...                    0   \n",
       "3             0             0  -0.000918557      ...                    0   \n",
       "4             0             0  -0.000918557      ...                    0   \n",
       "\n",
       "  userfeature_993 userfeature_994 userfeature_995 userfeature_996  \\\n",
       "0               0               0               0               0   \n",
       "1               0               0               0               0   \n",
       "2               0               0               0               0   \n",
       "3               0               0               0               0   \n",
       "4               0               0               0               0   \n",
       "\n",
       "  userfeature_997 userfeature_998 userfeature_999 itemfeature_0 itemfeature_1  \n",
       "0               0               0               0     -0.332123      0.943236  \n",
       "1               0               0               0     -0.332123      0.943236  \n",
       "2               0               0               0     -0.332123      0.943236  \n",
       "3               0               0               0     -0.332123      0.943236  \n",
       "4               0               0               0     -0.332123      0.943236  \n",
       "\n",
       "[5 rows x 1006 columns]"
      ]
     },
     "execution_count": 59,
     "metadata": {},
     "output_type": "execute_result"
    }
   ],
   "source": [
    "hot_ext_user.head()"
   ]
  },
  {
   "cell_type": "code",
   "execution_count": 60,
   "metadata": {},
   "outputs": [],
   "source": [
    "hot_ext_user.drop('储户id',axis=1,inplace=True)"
   ]
  },
  {
   "cell_type": "code",
   "execution_count": 61,
   "metadata": {},
   "outputs": [],
   "source": [
    "hot_ext_user.drop('产品名称',axis=1,inplace=True)"
   ]
  },
  {
   "cell_type": "code",
   "execution_count": 62,
   "metadata": {},
   "outputs": [],
   "source": [
    "hot_ext_user.drop('year',axis=1,inplace=True)"
   ]
  },
  {
   "cell_type": "code",
   "execution_count": 63,
   "metadata": {},
   "outputs": [],
   "source": [
    "hot_ext_user=hot_ext_user.groupby([\"单据创建时间\"]).sum().reset_index()"
   ]
  },
  {
   "cell_type": "code",
   "execution_count": null,
   "metadata": {},
   "outputs": [],
   "source": []
  },
  {
   "cell_type": "code",
   "execution_count": 76,
   "metadata": {},
   "outputs": [
    {
     "data": {
      "text/plain": [
       "[<matplotlib.lines.Line2D at 0x7fd8dd4ba5c0>]"
      ]
     },
     "execution_count": 76,
     "metadata": {},
     "output_type": "execute_result"
    },
    {
     "data": {
      "image/png": "[encoded data removed]",
      "text/plain": [
       "<Figure size 1440x360 with 1 Axes>"
      ]
     },
     "metadata": {},
     "output_type": "display_data"
    }
   ],
   "source": [
    "import matplotlib.pyplot as plt\n",
    "plt.figure(figsize=(20,5))\n",
    "plt.plot(hot_ext_user.userfeature_101)"
   ]
  },
  {
   "cell_type": "code",
   "execution_count": 77,
   "metadata": {},
   "outputs": [
    {
     "data": {
      "text/plain": [
       "[<matplotlib.lines.Line2D at 0x7fd8dd4168d0>]"
      ]
     },
     "execution_count": 77,
     "metadata": {},
     "output_type": "execute_result"
    },
    {
     "data": {
      "image/png": "[encoded data removed]",
      "text/plain": [
       "<Figure size 1440x360 with 1 Axes>"
      ]
     },
     "metadata": {},
     "output_type": "display_data"
    }
   ],
   "source": [
    "plt.figure(figsize=(20,5))\n",
    "plt.plot(hot_ext_user.userfeature_0)"
   ]
  },
  {
   "cell_type": "code",
   "execution_count": 78,
   "metadata": {},
   "outputs": [
    {
     "data": {
      "text/plain": [
       "[<matplotlib.lines.Line2D at 0x7fd8dd3fd240>]"
      ]
     },
     "execution_count": 78,
     "metadata": {},
     "output_type": "execute_result"
    },
    {
     "data": {
      "image/png": "[encoded data removed]",
      "text/plain": [
       "<Figure size 1440x360 with 1 Axes>"
      ]
     },
     "metadata": {},
     "output_type": "display_data"
    }
   ],
   "source": [
    "plt.figure(figsize=(20,5))\n",
    "plt.plot(hot_ext_user.itemfeature_0)"
   ]
  },
  {
   "cell_type": "code",
   "execution_count": 67,
   "metadata": {},
   "outputs": [
    {
     "data": {
      "text/html": [
       "<div>\n",
       "<style scoped>\n",
       "    .dataframe tbody tr th:only-of-type {\n",
       "        vertical-align: middle;\n",
       "    }\n",
       "\n",
       "    .dataframe tbody tr th {\n",
       "        vertical-align: top;\n",
       "    }\n",
       "\n",
       "    .dataframe thead th {\n",
       "        text-align: right;\n",
       "    }\n",
       "</style>\n",
       "<table border=\"1\" class=\"dataframe\">\n",
       "  <thead>\n",
       "    <tr style=\"text-align: right;\">\n",
       "      <th></th>\n",
       "      <th>单据创建时间</th>\n",
       "      <th>userfeature_0</th>\n",
       "      <th>userfeature_1</th>\n",
       "      <th>userfeature_2</th>\n",
       "      <th>userfeature_3</th>\n",
       "      <th>userfeature_4</th>\n",
       "      <th>userfeature_5</th>\n",
       "      <th>userfeature_6</th>\n",
       "      <th>userfeature_7</th>\n",
       "      <th>userfeature_8</th>\n",
       "      <th>...</th>\n",
       "      <th>userfeature_992</th>\n",
       "      <th>userfeature_993</th>\n",
       "      <th>userfeature_994</th>\n",
       "      <th>userfeature_995</th>\n",
       "      <th>userfeature_996</th>\n",
       "      <th>userfeature_997</th>\n",
       "      <th>userfeature_998</th>\n",
       "      <th>userfeature_999</th>\n",
       "      <th>itemfeature_0</th>\n",
       "      <th>itemfeature_1</th>\n",
       "    </tr>\n",
       "  </thead>\n",
       "  <tbody>\n",
       "    <tr>\n",
       "      <th>0</th>\n",
       "      <td>2014-04-08</td>\n",
       "      <td>-0.299568</td>\n",
       "      <td>0.562648</td>\n",
       "      <td>-0.000040</td>\n",
       "      <td>0.0</td>\n",
       "      <td>0.0</td>\n",
       "      <td>0.002974</td>\n",
       "      <td>0.0</td>\n",
       "      <td>0.001487</td>\n",
       "      <td>-0.007087</td>\n",
       "      <td>...</td>\n",
       "      <td>0.0</td>\n",
       "      <td>0.0</td>\n",
       "      <td>0.0</td>\n",
       "      <td>0.0</td>\n",
       "      <td>0.0</td>\n",
       "      <td>0.0</td>\n",
       "      <td>0.0</td>\n",
       "      <td>0.0</td>\n",
       "      <td>-0.996368</td>\n",
       "      <td>2.829709</td>\n",
       "    </tr>\n",
       "    <tr>\n",
       "      <th>1</th>\n",
       "      <td>2014-04-09</td>\n",
       "      <td>-0.498104</td>\n",
       "      <td>0.037200</td>\n",
       "      <td>0.000005</td>\n",
       "      <td>0.0</td>\n",
       "      <td>0.0</td>\n",
       "      <td>-0.003116</td>\n",
       "      <td>0.0</td>\n",
       "      <td>-0.000771</td>\n",
       "      <td>-0.002185</td>\n",
       "      <td>...</td>\n",
       "      <td>0.0</td>\n",
       "      <td>0.0</td>\n",
       "      <td>0.0</td>\n",
       "      <td>0.0</td>\n",
       "      <td>0.0</td>\n",
       "      <td>0.0</td>\n",
       "      <td>0.0</td>\n",
       "      <td>0.0</td>\n",
       "      <td>-1.328491</td>\n",
       "      <td>3.772945</td>\n",
       "    </tr>\n",
       "    <tr>\n",
       "      <th>2</th>\n",
       "      <td>2014-04-10</td>\n",
       "      <td>-0.099856</td>\n",
       "      <td>0.187549</td>\n",
       "      <td>-0.000013</td>\n",
       "      <td>0.0</td>\n",
       "      <td>0.0</td>\n",
       "      <td>0.000991</td>\n",
       "      <td>0.0</td>\n",
       "      <td>0.000496</td>\n",
       "      <td>-0.002362</td>\n",
       "      <td>...</td>\n",
       "      <td>0.0</td>\n",
       "      <td>0.0</td>\n",
       "      <td>0.0</td>\n",
       "      <td>0.0</td>\n",
       "      <td>0.0</td>\n",
       "      <td>0.0</td>\n",
       "      <td>0.0</td>\n",
       "      <td>0.0</td>\n",
       "      <td>-0.332123</td>\n",
       "      <td>0.943236</td>\n",
       "    </tr>\n",
       "    <tr>\n",
       "      <th>3</th>\n",
       "      <td>2014-04-11</td>\n",
       "      <td>-0.130538</td>\n",
       "      <td>0.171040</td>\n",
       "      <td>-0.000012</td>\n",
       "      <td>0.0</td>\n",
       "      <td>0.0</td>\n",
       "      <td>0.000631</td>\n",
       "      <td>0.0</td>\n",
       "      <td>0.000380</td>\n",
       "      <td>-0.002296</td>\n",
       "      <td>...</td>\n",
       "      <td>0.0</td>\n",
       "      <td>0.0</td>\n",
       "      <td>0.0</td>\n",
       "      <td>0.0</td>\n",
       "      <td>0.0</td>\n",
       "      <td>0.0</td>\n",
       "      <td>0.0</td>\n",
       "      <td>0.0</td>\n",
       "      <td>-0.664245</td>\n",
       "      <td>1.886472</td>\n",
       "    </tr>\n",
       "    <tr>\n",
       "      <th>4</th>\n",
       "      <td>2014-04-12</td>\n",
       "      <td>-0.399424</td>\n",
       "      <td>0.750197</td>\n",
       "      <td>-0.000053</td>\n",
       "      <td>0.0</td>\n",
       "      <td>0.0</td>\n",
       "      <td>0.003965</td>\n",
       "      <td>0.0</td>\n",
       "      <td>0.001983</td>\n",
       "      <td>-0.009449</td>\n",
       "      <td>...</td>\n",
       "      <td>0.0</td>\n",
       "      <td>0.0</td>\n",
       "      <td>0.0</td>\n",
       "      <td>0.0</td>\n",
       "      <td>0.0</td>\n",
       "      <td>0.0</td>\n",
       "      <td>0.0</td>\n",
       "      <td>0.0</td>\n",
       "      <td>-1.328491</td>\n",
       "      <td>3.772945</td>\n",
       "    </tr>\n",
       "  </tbody>\n",
       "</table>\n",
       "<p>5 rows × 1003 columns</p>\n",
       "</div>"
      ],
      "text/plain": [
       "       单据创建时间  userfeature_0  userfeature_1  userfeature_2  userfeature_3  \\\n",
       "0  2014-04-08      -0.299568       0.562648      -0.000040            0.0   \n",
       "1  2014-04-09      -0.498104       0.037200       0.000005            0.0   \n",
       "2  2014-04-10      -0.099856       0.187549      -0.000013            0.0   \n",
       "3  2014-04-11      -0.130538       0.171040      -0.000012            0.0   \n",
       "4  2014-04-12      -0.399424       0.750197      -0.000053            0.0   \n",
       "\n",
       "   userfeature_4  userfeature_5  userfeature_6  userfeature_7  userfeature_8  \\\n",
       "0            0.0       0.002974            0.0       0.001487      -0.007087   \n",
       "1            0.0      -0.003116            0.0      -0.000771      -0.002185   \n",
       "2            0.0       0.000991            0.0       0.000496      -0.002362   \n",
       "3            0.0       0.000631            0.0       0.000380      -0.002296   \n",
       "4            0.0       0.003965            0.0       0.001983      -0.009449   \n",
       "\n",
       "       ...        userfeature_992  userfeature_993  userfeature_994  \\\n",
       "0      ...                    0.0              0.0              0.0   \n",
       "1      ...                    0.0              0.0              0.0   \n",
       "2      ...                    0.0              0.0              0.0   \n",
       "3      ...                    0.0              0.0              0.0   \n",
       "4      ...                    0.0              0.0              0.0   \n",
       "\n",
       "   userfeature_995  userfeature_996  userfeature_997  userfeature_998  \\\n",
       "0              0.0              0.0              0.0              0.0   \n",
       "1              0.0              0.0              0.0              0.0   \n",
       "2              0.0              0.0              0.0              0.0   \n",
       "3              0.0              0.0              0.0              0.0   \n",
       "4              0.0              0.0              0.0              0.0   \n",
       "\n",
       "   userfeature_999  itemfeature_0  itemfeature_1  \n",
       "0              0.0      -0.996368       2.829709  \n",
       "1              0.0      -1.328491       3.772945  \n",
       "2              0.0      -0.332123       0.943236  \n",
       "3              0.0      -0.664245       1.886472  \n",
       "4              0.0      -1.328491       3.772945  \n",
       "\n",
       "[5 rows x 1003 columns]"
      ]
     },
     "execution_count": 67,
     "metadata": {},
     "output_type": "execute_result"
    }
   ],
   "source": [
    "hot_ext_user.head()"
   ]
  },
  {
   "cell_type": "code",
   "execution_count": 68,
   "metadata": {},
   "outputs": [
    {
     "data": {
      "text/plain": [
       "(1532, 53)"
      ]
     },
     "execution_count": 68,
     "metadata": {},
     "output_type": "execute_result"
    }
   ],
   "source": [
    "hot_ext_clear.shape"
   ]
  },
  {
   "cell_type": "code",
   "execution_count": 69,
   "metadata": {},
   "outputs": [],
   "source": [
    "hot_ext_clear=pd.merge(hot_ext_clear,hot_ext_user,how=\"left\",on=\"单据创建时间\")\n",
    "hot_ext_clear.sort_values(by=['单据创建时间'],inplace=True)\n",
    "hot_ext_clear.fillna(0,inplace=True)"
   ]
  },
  {
   "cell_type": "code",
   "execution_count": 70,
   "metadata": {},
   "outputs": [
    {
     "data": {
      "text/plain": [
       "(1532, 1055)"
      ]
     },
     "execution_count": 70,
     "metadata": {},
     "output_type": "execute_result"
    }
   ],
   "source": [
    "hot_ext_clear.shape"
   ]
  },
  {
   "cell_type": "code",
   "execution_count": 71,
   "metadata": {},
   "outputs": [],
   "source": [
    "import time, datetime\n",
    "def ymd(d):\n",
    "    a=np.zeros(d.shape[0])\n",
    "    b=np.zeros(d.shape[0])\n",
    "    c=np.zeros(d.shape[0])\n",
    "    e=np.zeros(d.shape[0])\n",
    "    for i in range(d.shape[0]):\n",
    "        timeArray = time.strptime(d.单据创建时间[i], \"%Y-%m-%d\")\n",
    "        a[i]=timeArray.tm_year\n",
    "        b[i]=timeArray.tm_mon\n",
    "        c[i]=timeArray.tm_mday\n",
    "        e[i]=timeArray.tm_wday\n",
    "    d['year']=a\n",
    "    d['mon']=b\n",
    "    d['mday']=c\n",
    "    d['wday']=e\n",
    "ymd(hot_ext_clear)"
   ]
  },
  {
   "cell_type": "code",
   "execution_count": 72,
   "metadata": {},
   "outputs": [
    {
     "data": {
      "text/html": [
       "<div>\n",
       "<style scoped>\n",
       "    .dataframe tbody tr th:only-of-type {\n",
       "        vertical-align: middle;\n",
       "    }\n",
       "\n",
       "    .dataframe tbody tr th {\n",
       "        vertical-align: top;\n",
       "    }\n",
       "\n",
       "    .dataframe thead th {\n",
       "        text-align: right;\n",
       "    }\n",
       "</style>\n",
       "<table border=\"1\" class=\"dataframe\">\n",
       "  <thead>\n",
       "    <tr style=\"text-align: right;\">\n",
       "      <th></th>\n",
       "      <th>单据创建时间</th>\n",
       "      <th>重量</th>\n",
       "      <th>重量_1</th>\n",
       "      <th>重量_2</th>\n",
       "      <th>重量_3</th>\n",
       "      <th>重量_4</th>\n",
       "      <th>重量_5</th>\n",
       "      <th>重量_6</th>\n",
       "      <th>重量_7</th>\n",
       "      <th>重量_8</th>\n",
       "      <th>...</th>\n",
       "      <th>userfeature_996</th>\n",
       "      <th>userfeature_997</th>\n",
       "      <th>userfeature_998</th>\n",
       "      <th>userfeature_999</th>\n",
       "      <th>itemfeature_0</th>\n",
       "      <th>itemfeature_1</th>\n",
       "      <th>year</th>\n",
       "      <th>mon</th>\n",
       "      <th>mday</th>\n",
       "      <th>wday</th>\n",
       "    </tr>\n",
       "  </thead>\n",
       "  <tbody>\n",
       "    <tr>\n",
       "      <th>0</th>\n",
       "      <td>2014-04-08</td>\n",
       "      <td>47.649</td>\n",
       "      <td>0.000</td>\n",
       "      <td>0.000</td>\n",
       "      <td>0.000</td>\n",
       "      <td>0.000</td>\n",
       "      <td>0.0</td>\n",
       "      <td>0.0</td>\n",
       "      <td>0.0</td>\n",
       "      <td>0.0</td>\n",
       "      <td>...</td>\n",
       "      <td>0.0</td>\n",
       "      <td>0.0</td>\n",
       "      <td>0.0</td>\n",
       "      <td>0.0</td>\n",
       "      <td>-0.996368</td>\n",
       "      <td>2.829709</td>\n",
       "      <td>2014.0</td>\n",
       "      <td>4.0</td>\n",
       "      <td>8.0</td>\n",
       "      <td>1.0</td>\n",
       "    </tr>\n",
       "    <tr>\n",
       "      <th>1</th>\n",
       "      <td>2014-04-09</td>\n",
       "      <td>236.411</td>\n",
       "      <td>47.649</td>\n",
       "      <td>0.000</td>\n",
       "      <td>0.000</td>\n",
       "      <td>0.000</td>\n",
       "      <td>0.0</td>\n",
       "      <td>0.0</td>\n",
       "      <td>0.0</td>\n",
       "      <td>0.0</td>\n",
       "      <td>...</td>\n",
       "      <td>0.0</td>\n",
       "      <td>0.0</td>\n",
       "      <td>0.0</td>\n",
       "      <td>0.0</td>\n",
       "      <td>-1.328491</td>\n",
       "      <td>3.772945</td>\n",
       "      <td>2014.0</td>\n",
       "      <td>4.0</td>\n",
       "      <td>9.0</td>\n",
       "      <td>2.0</td>\n",
       "    </tr>\n",
       "    <tr>\n",
       "      <th>2</th>\n",
       "      <td>2014-04-10</td>\n",
       "      <td>23.954</td>\n",
       "      <td>236.411</td>\n",
       "      <td>47.649</td>\n",
       "      <td>0.000</td>\n",
       "      <td>0.000</td>\n",
       "      <td>0.0</td>\n",
       "      <td>0.0</td>\n",
       "      <td>0.0</td>\n",
       "      <td>0.0</td>\n",
       "      <td>...</td>\n",
       "      <td>0.0</td>\n",
       "      <td>0.0</td>\n",
       "      <td>0.0</td>\n",
       "      <td>0.0</td>\n",
       "      <td>-0.332123</td>\n",
       "      <td>0.943236</td>\n",
       "      <td>2014.0</td>\n",
       "      <td>4.0</td>\n",
       "      <td>10.0</td>\n",
       "      <td>3.0</td>\n",
       "    </tr>\n",
       "    <tr>\n",
       "      <th>3</th>\n",
       "      <td>2014-04-11</td>\n",
       "      <td>60.529</td>\n",
       "      <td>23.954</td>\n",
       "      <td>236.411</td>\n",
       "      <td>47.649</td>\n",
       "      <td>0.000</td>\n",
       "      <td>0.0</td>\n",
       "      <td>0.0</td>\n",
       "      <td>0.0</td>\n",
       "      <td>0.0</td>\n",
       "      <td>...</td>\n",
       "      <td>0.0</td>\n",
       "      <td>0.0</td>\n",
       "      <td>0.0</td>\n",
       "      <td>0.0</td>\n",
       "      <td>-0.664245</td>\n",
       "      <td>1.886472</td>\n",
       "      <td>2014.0</td>\n",
       "      <td>4.0</td>\n",
       "      <td>11.0</td>\n",
       "      <td>4.0</td>\n",
       "    </tr>\n",
       "    <tr>\n",
       "      <th>4</th>\n",
       "      <td>2014-04-12</td>\n",
       "      <td>71.323</td>\n",
       "      <td>60.529</td>\n",
       "      <td>23.954</td>\n",
       "      <td>236.411</td>\n",
       "      <td>47.649</td>\n",
       "      <td>0.0</td>\n",
       "      <td>0.0</td>\n",
       "      <td>0.0</td>\n",
       "      <td>0.0</td>\n",
       "      <td>...</td>\n",
       "      <td>0.0</td>\n",
       "      <td>0.0</td>\n",
       "      <td>0.0</td>\n",
       "      <td>0.0</td>\n",
       "      <td>-1.328491</td>\n",
       "      <td>3.772945</td>\n",
       "      <td>2014.0</td>\n",
       "      <td>4.0</td>\n",
       "      <td>12.0</td>\n",
       "      <td>5.0</td>\n",
       "    </tr>\n",
       "  </tbody>\n",
       "</table>\n",
       "<p>5 rows × 1059 columns</p>\n",
       "</div>"
      ],
      "text/plain": [
       "       单据创建时间       重量     重量_1     重量_2     重量_3    重量_4  重量_5  重量_6  重量_7  \\\n",
       "0  2014-04-08   47.649    0.000    0.000    0.000   0.000   0.0   0.0   0.0   \n",
       "1  2014-04-09  236.411   47.649    0.000    0.000   0.000   0.0   0.0   0.0   \n",
       "2  2014-04-10   23.954  236.411   47.649    0.000   0.000   0.0   0.0   0.0   \n",
       "3  2014-04-11   60.529   23.954  236.411   47.649   0.000   0.0   0.0   0.0   \n",
       "4  2014-04-12   71.323   60.529   23.954  236.411  47.649   0.0   0.0   0.0   \n",
       "\n",
       "   重量_8  ...   userfeature_996  userfeature_997  userfeature_998  \\\n",
       "0   0.0  ...               0.0              0.0              0.0   \n",
       "1   0.0  ...               0.0              0.0              0.0   \n",
       "2   0.0  ...               0.0              0.0              0.0   \n",
       "3   0.0  ...               0.0              0.0              0.0   \n",
       "4   0.0  ...               0.0              0.0              0.0   \n",
       "\n",
       "   userfeature_999  itemfeature_0  itemfeature_1    year  mon  mday  wday  \n",
       "0              0.0      -0.996368       2.829709  2014.0  4.0   8.0   1.0  \n",
       "1              0.0      -1.328491       3.772945  2014.0  4.0   9.0   2.0  \n",
       "2              0.0      -0.332123       0.943236  2014.0  4.0  10.0   3.0  \n",
       "3              0.0      -0.664245       1.886472  2014.0  4.0  11.0   4.0  \n",
       "4              0.0      -1.328491       3.772945  2014.0  4.0  12.0   5.0  \n",
       "\n",
       "[5 rows x 1059 columns]"
      ]
     },
     "execution_count": 72,
     "metadata": {},
     "output_type": "execute_result"
    }
   ],
   "source": [
    "hot_ext_clear.head()"
   ]
  },
  {
   "cell_type": "code",
   "execution_count": 73,
   "metadata": {},
   "outputs": [],
   "source": [
    "hot_ext_clear.index=pd.DatetimeIndex(hot_ext_clear['单据创建时间'])\n",
    "hot_ext_clear.drop('单据创建时间',axis=1,inplace=True)"
   ]
  },
  {
   "cell_type": "code",
   "execution_count": 74,
   "metadata": {},
   "outputs": [
    {
     "data": {
      "text/html": [
       "<div>\n",
       "<style scoped>\n",
       "    .dataframe tbody tr th:only-of-type {\n",
       "        vertical-align: middle;\n",
       "    }\n",
       "\n",
       "    .dataframe tbody tr th {\n",
       "        vertical-align: top;\n",
       "    }\n",
       "\n",
       "    .dataframe thead th {\n",
       "        text-align: right;\n",
       "    }\n",
       "</style>\n",
       "<table border=\"1\" class=\"dataframe\">\n",
       "  <thead>\n",
       "    <tr style=\"text-align: right;\">\n",
       "      <th></th>\n",
       "      <th>重量</th>\n",
       "      <th>重量_1</th>\n",
       "      <th>重量_2</th>\n",
       "      <th>重量_3</th>\n",
       "      <th>重量_4</th>\n",
       "      <th>重量_5</th>\n",
       "      <th>重量_6</th>\n",
       "      <th>重量_7</th>\n",
       "      <th>重量_8</th>\n",
       "      <th>重量_9</th>\n",
       "      <th>...</th>\n",
       "      <th>userfeature_996</th>\n",
       "      <th>userfeature_997</th>\n",
       "      <th>userfeature_998</th>\n",
       "      <th>userfeature_999</th>\n",
       "      <th>itemfeature_0</th>\n",
       "      <th>itemfeature_1</th>\n",
       "      <th>year</th>\n",
       "      <th>mon</th>\n",
       "      <th>mday</th>\n",
       "      <th>wday</th>\n",
       "    </tr>\n",
       "    <tr>\n",
       "      <th>单据创建时间</th>\n",
       "      <th></th>\n",
       "      <th></th>\n",
       "      <th></th>\n",
       "      <th></th>\n",
       "      <th></th>\n",
       "      <th></th>\n",
       "      <th></th>\n",
       "      <th></th>\n",
       "      <th></th>\n",
       "      <th></th>\n",
       "      <th></th>\n",
       "      <th></th>\n",
       "      <th></th>\n",
       "      <th></th>\n",
       "      <th></th>\n",
       "      <th></th>\n",
       "      <th></th>\n",
       "      <th></th>\n",
       "      <th></th>\n",
       "      <th></th>\n",
       "      <th></th>\n",
       "    </tr>\n",
       "  </thead>\n",
       "  <tbody>\n",
       "    <tr>\n",
       "      <th>2014-04-08</th>\n",
       "      <td>47.649</td>\n",
       "      <td>0.000</td>\n",
       "      <td>0.000</td>\n",
       "      <td>0.000</td>\n",
       "      <td>0.000</td>\n",
       "      <td>0.0</td>\n",
       "      <td>0.0</td>\n",
       "      <td>0.0</td>\n",
       "      <td>0.0</td>\n",
       "      <td>0.0</td>\n",
       "      <td>...</td>\n",
       "      <td>0.0</td>\n",
       "      <td>0.0</td>\n",
       "      <td>0.0</td>\n",
       "      <td>0.0</td>\n",
       "      <td>-0.996368</td>\n",
       "      <td>2.829709</td>\n",
       "      <td>2014.0</td>\n",
       "      <td>4.0</td>\n",
       "      <td>8.0</td>\n",
       "      <td>1.0</td>\n",
       "    </tr>\n",
       "    <tr>\n",
       "      <th>2014-04-09</th>\n",
       "      <td>236.411</td>\n",
       "      <td>47.649</td>\n",
       "      <td>0.000</td>\n",
       "      <td>0.000</td>\n",
       "      <td>0.000</td>\n",
       "      <td>0.0</td>\n",
       "      <td>0.0</td>\n",
       "      <td>0.0</td>\n",
       "      <td>0.0</td>\n",
       "      <td>0.0</td>\n",
       "      <td>...</td>\n",
       "      <td>0.0</td>\n",
       "      <td>0.0</td>\n",
       "      <td>0.0</td>\n",
       "      <td>0.0</td>\n",
       "      <td>-1.328491</td>\n",
       "      <td>3.772945</td>\n",
       "      <td>2014.0</td>\n",
       "      <td>4.0</td>\n",
       "      <td>9.0</td>\n",
       "      <td>2.0</td>\n",
       "    </tr>\n",
       "    <tr>\n",
       "      <th>2014-04-10</th>\n",
       "      <td>23.954</td>\n",
       "      <td>236.411</td>\n",
       "      <td>47.649</td>\n",
       "      <td>0.000</td>\n",
       "      <td>0.000</td>\n",
       "      <td>0.0</td>\n",
       "      <td>0.0</td>\n",
       "      <td>0.0</td>\n",
       "      <td>0.0</td>\n",
       "      <td>0.0</td>\n",
       "      <td>...</td>\n",
       "      <td>0.0</td>\n",
       "      <td>0.0</td>\n",
       "      <td>0.0</td>\n",
       "      <td>0.0</td>\n",
       "      <td>-0.332123</td>\n",
       "      <td>0.943236</td>\n",
       "      <td>2014.0</td>\n",
       "      <td>4.0</td>\n",
       "      <td>10.0</td>\n",
       "      <td>3.0</td>\n",
       "    </tr>\n",
       "    <tr>\n",
       "      <th>2014-04-11</th>\n",
       "      <td>60.529</td>\n",
       "      <td>23.954</td>\n",
       "      <td>236.411</td>\n",
       "      <td>47.649</td>\n",
       "      <td>0.000</td>\n",
       "      <td>0.0</td>\n",
       "      <td>0.0</td>\n",
       "      <td>0.0</td>\n",
       "      <td>0.0</td>\n",
       "      <td>0.0</td>\n",
       "      <td>...</td>\n",
       "      <td>0.0</td>\n",
       "      <td>0.0</td>\n",
       "      <td>0.0</td>\n",
       "      <td>0.0</td>\n",
       "      <td>-0.664245</td>\n",
       "      <td>1.886472</td>\n",
       "      <td>2014.0</td>\n",
       "      <td>4.0</td>\n",
       "      <td>11.0</td>\n",
       "      <td>4.0</td>\n",
       "    </tr>\n",
       "    <tr>\n",
       "      <th>2014-04-12</th>\n",
       "      <td>71.323</td>\n",
       "      <td>60.529</td>\n",
       "      <td>23.954</td>\n",
       "      <td>236.411</td>\n",
       "      <td>47.649</td>\n",
       "      <td>0.0</td>\n",
       "      <td>0.0</td>\n",
       "      <td>0.0</td>\n",
       "      <td>0.0</td>\n",
       "      <td>0.0</td>\n",
       "      <td>...</td>\n",
       "      <td>0.0</td>\n",
       "      <td>0.0</td>\n",
       "      <td>0.0</td>\n",
       "      <td>0.0</td>\n",
       "      <td>-1.328491</td>\n",
       "      <td>3.772945</td>\n",
       "      <td>2014.0</td>\n",
       "      <td>4.0</td>\n",
       "      <td>12.0</td>\n",
       "      <td>5.0</td>\n",
       "    </tr>\n",
       "  </tbody>\n",
       "</table>\n",
       "<p>5 rows × 1058 columns</p>\n",
       "</div>"
      ],
      "text/plain": [
       "                 重量     重量_1     重量_2     重量_3    重量_4  重量_5  重量_6  重量_7  \\\n",
       "单据创建时间                                                                     \n",
       "2014-04-08   47.649    0.000    0.000    0.000   0.000   0.0   0.0   0.0   \n",
       "2014-04-09  236.411   47.649    0.000    0.000   0.000   0.0   0.0   0.0   \n",
       "2014-04-10   23.954  236.411   47.649    0.000   0.000   0.0   0.0   0.0   \n",
       "2014-04-11   60.529   23.954  236.411   47.649   0.000   0.0   0.0   0.0   \n",
       "2014-04-12   71.323   60.529   23.954  236.411  47.649   0.0   0.0   0.0   \n",
       "\n",
       "            重量_8  重量_9  ...   userfeature_996  userfeature_997  \\\n",
       "单据创建时间                  ...                                      \n",
       "2014-04-08   0.0   0.0  ...               0.0              0.0   \n",
       "2014-04-09   0.0   0.0  ...               0.0              0.0   \n",
       "2014-04-10   0.0   0.0  ...               0.0              0.0   \n",
       "2014-04-11   0.0   0.0  ...               0.0              0.0   \n",
       "2014-04-12   0.0   0.0  ...               0.0              0.0   \n",
       "\n",
       "            userfeature_998  userfeature_999  itemfeature_0  itemfeature_1  \\\n",
       "单据创建时间                                                                       \n",
       "2014-04-08              0.0              0.0      -0.996368       2.829709   \n",
       "2014-04-09              0.0              0.0      -1.328491       3.772945   \n",
       "2014-04-10              0.0              0.0      -0.332123       0.943236   \n",
       "2014-04-11              0.0              0.0      -0.664245       1.886472   \n",
       "2014-04-12              0.0              0.0      -1.328491       3.772945   \n",
       "\n",
       "              year  mon  mday  wday  \n",
       "单据创建时间                               \n",
       "2014-04-08  2014.0  4.0   8.0   1.0  \n",
       "2014-04-09  2014.0  4.0   9.0   2.0  \n",
       "2014-04-10  2014.0  4.0  10.0   3.0  \n",
       "2014-04-11  2014.0  4.0  11.0   4.0  \n",
       "2014-04-12  2014.0  4.0  12.0   5.0  \n",
       "\n",
       "[5 rows x 1058 columns]"
      ]
     },
     "execution_count": 74,
     "metadata": {},
     "output_type": "execute_result"
    }
   ],
   "source": [
    "hot_ext_clear.head()"
   ]
  },
  {
   "cell_type": "code",
   "execution_count": 75,
   "metadata": {},
   "outputs": [],
   "source": [
    "hot_ext_clear.to_csv(re_col+\".csv\")"
   ]
  }
 ],
 "metadata": {
  "kernelspec": {
   "display_name": "Python 3",
   "language": "python",
   "name": "python3"
  },
  "language_info": {
   "codemirror_mode": {
    "name": "ipython",
    "version": 3
   },
   "file_extension": ".py",
   "mimetype": "text/x-python",
   "name": "python",
   "nbconvert_exporter": "python",
   "pygments_lexer": "ipython3",
   "version": "3.6.5"
  }
 },
 "nbformat": 4,
 "nbformat_minor": 2
}
